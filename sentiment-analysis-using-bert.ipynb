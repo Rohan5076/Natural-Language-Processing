{
 "cells": [
  {
   "cell_type": "code",
   "execution_count": 1,
   "id": "ebe76b20",
   "metadata": {
    "_cell_guid": "b1076dfc-b9ad-4769-8c92-a6c4dae69d19",
    "_uuid": "8f2839f25d086af736a60e9eeb907d3b93b6e0e5",
    "execution": {
     "iopub.execute_input": "2022-07-10T17:39:28.586999Z",
     "iopub.status.busy": "2022-07-10T17:39:28.586477Z",
     "iopub.status.idle": "2022-07-10T17:39:28.606876Z",
     "shell.execute_reply": "2022-07-10T17:39:28.605840Z"
    },
    "papermill": {
     "duration": 0.031757,
     "end_time": "2022-07-10T17:39:28.610180",
     "exception": false,
     "start_time": "2022-07-10T17:39:28.578423",
     "status": "completed"
    },
    "tags": []
   },
   "outputs": [
    {
     "name": "stdout",
     "output_type": "stream",
     "text": [
      "/kaggle/input/trip-advisor/tripadvisor_hotel_reviews.csv\n"
     ]
    }
   ],
   "source": [
    "# This Python 3 environment comes with many helpful analytics libraries installed\n",
    "# It is defined by the kaggle/python Docker image: https://github.com/kaggle/docker-python\n",
    "# For example, here's several helpful packages to load\n",
    "\n",
    "import numpy as np # linear algebra\n",
    "import pandas as pd # data processing, CSV file I/O (e.g. pd.read_csv)\n",
    "\n",
    "# Input data files are available in the read-only \"../input/\" directory\n",
    "# For example, running this (by clicking run or pressing Shift+Enter) will list all files under the input directory\n",
    "\n",
    "import os\n",
    "for dirname, _, filenames in os.walk('/kaggle/input'):\n",
    "    for filename in filenames:\n",
    "        print(os.path.join(dirname, filename))\n",
    "\n",
    "# You can write up to 20GB to the current directory (/kaggle/working/) that gets preserved as output when you create a version using \"Save & Run All\" \n",
    "# You can also write temporary files to /kaggle/temp/, but they won't be saved outside of the current session"
   ]
  },
  {
   "cell_type": "markdown",
   "id": "11bad2f9",
   "metadata": {
    "papermill": {
     "duration": 0.005369,
     "end_time": "2022-07-10T17:39:28.622113",
     "exception": false,
     "start_time": "2022-07-10T17:39:28.616744",
     "status": "completed"
    },
    "tags": []
   },
   "source": [
    "### Introduction\n",
    "Nearly 9 in 10 consumers rely on online reviews. Online reviews are important because they help boost companies’ sales. Moreover, one of the most important things for businesses is to ensure that their customers are satisfied with their services or products. Therefore, content reviewing has the same value as review writing. However, many businesses have limited budgets and time to assess all the reviews and respond to them promptly. Therefore, in this project, we introduce and apply some techniques and help companies to analyze reviews efficiently.\n",
    "\n",
    "The data is from TripAdvisor, the world’s largest travel website. We use the dataset from Kaggle which is about the hotel reviews in the year 2020.\n",
    "\n",
    "The dataset consists of 2 columns: Review in text and Rating (1–5)\n",
    "\n",
    "The goal is to use Bidirectional Encoder Representations from Transformers (BERT) for the sentiment analysis."
   ]
  },
  {
   "cell_type": "markdown",
   "id": "9b099be5",
   "metadata": {
    "papermill": {
     "duration": 0.00524,
     "end_time": "2022-07-10T17:39:28.632762",
     "exception": false,
     "start_time": "2022-07-10T17:39:28.627522",
     "status": "completed"
    },
    "tags": []
   },
   "source": [
    "**Step1: we first install the transformers and import all the necessary packages.**"
   ]
  },
  {
   "cell_type": "code",
   "execution_count": 2,
   "id": "0ddc8f95",
   "metadata": {
    "execution": {
     "iopub.execute_input": "2022-07-10T17:39:28.644877Z",
     "iopub.status.busy": "2022-07-10T17:39:28.644578Z",
     "iopub.status.idle": "2022-07-10T17:39:39.248454Z",
     "shell.execute_reply": "2022-07-10T17:39:39.247228Z"
    },
    "papermill": {
     "duration": 10.612691,
     "end_time": "2022-07-10T17:39:39.250910",
     "exception": false,
     "start_time": "2022-07-10T17:39:28.638219",
     "status": "completed"
    },
    "tags": []
   },
   "outputs": [],
   "source": [
    "!pip install -qq transformers"
   ]
  },
  {
   "cell_type": "code",
   "execution_count": 3,
   "id": "176564c7",
   "metadata": {
    "execution": {
     "iopub.execute_input": "2022-07-10T17:39:39.264403Z",
     "iopub.status.busy": "2022-07-10T17:39:39.264101Z",
     "iopub.status.idle": "2022-07-10T17:39:46.485198Z",
     "shell.execute_reply": "2022-07-10T17:39:46.484249Z"
    },
    "papermill": {
     "duration": 7.230329,
     "end_time": "2022-07-10T17:39:46.487568",
     "exception": false,
     "start_time": "2022-07-10T17:39:39.257239",
     "status": "completed"
    },
    "tags": []
   },
   "outputs": [],
   "source": [
    "import transformers as ppb\n",
    "from transformers import BertModel, BertTokenizer\n",
    "import torch\n",
    "\n",
    "import numpy as np\n",
    "import pandas as pd\n",
    "\n",
    "from sklearn.model_selection import train_test_split\n",
    "from sklearn.linear_model import LogisticRegression"
   ]
  },
  {
   "cell_type": "markdown",
   "id": "4c53c5e4",
   "metadata": {
    "papermill": {
     "duration": 0.005306,
     "end_time": "2022-07-10T17:39:46.498523",
     "exception": false,
     "start_time": "2022-07-10T17:39:46.493217",
     "status": "completed"
    },
    "tags": []
   },
   "source": [
    "**Step2: We then import the data. We can use df.head() to look at the first five rows of the data frame to see how the data looks. In this step, we create a binary variable called label and separate the review data based on their ratings into two classes. For ratings equal and above 3, we give label 1 and for any ratings below 3, we give label 0.**\n",
    "\n",
    "To ease our work, we first work with the first 500 reviews and call it batch_1."
   ]
  },
  {
   "cell_type": "code",
   "execution_count": 4,
   "id": "6fe9e38d",
   "metadata": {
    "execution": {
     "iopub.execute_input": "2022-07-10T17:39:46.510651Z",
     "iopub.status.busy": "2022-07-10T17:39:46.510173Z",
     "iopub.status.idle": "2022-07-10T17:39:46.805853Z",
     "shell.execute_reply": "2022-07-10T17:39:46.804968Z"
    },
    "papermill": {
     "duration": 0.304014,
     "end_time": "2022-07-10T17:39:46.807981",
     "exception": false,
     "start_time": "2022-07-10T17:39:46.503967",
     "status": "completed"
    },
    "tags": []
   },
   "outputs": [
    {
     "data": {
      "text/html": [
       "<div>\n",
       "<style scoped>\n",
       "    .dataframe tbody tr th:only-of-type {\n",
       "        vertical-align: middle;\n",
       "    }\n",
       "\n",
       "    .dataframe tbody tr th {\n",
       "        vertical-align: top;\n",
       "    }\n",
       "\n",
       "    .dataframe thead th {\n",
       "        text-align: right;\n",
       "    }\n",
       "</style>\n",
       "<table border=\"1\" class=\"dataframe\">\n",
       "  <thead>\n",
       "    <tr style=\"text-align: right;\">\n",
       "      <th></th>\n",
       "      <th>Review</th>\n",
       "      <th>Rating</th>\n",
       "    </tr>\n",
       "  </thead>\n",
       "  <tbody>\n",
       "    <tr>\n",
       "      <th>0</th>\n",
       "      <td>nice hotel expensive parking got good deal sta...</td>\n",
       "      <td>4</td>\n",
       "    </tr>\n",
       "    <tr>\n",
       "      <th>1</th>\n",
       "      <td>ok nothing special charge diamond member hilto...</td>\n",
       "      <td>2</td>\n",
       "    </tr>\n",
       "    <tr>\n",
       "      <th>2</th>\n",
       "      <td>nice rooms not 4* experience hotel monaco seat...</td>\n",
       "      <td>3</td>\n",
       "    </tr>\n",
       "    <tr>\n",
       "      <th>3</th>\n",
       "      <td>unique, great stay, wonderful time hotel monac...</td>\n",
       "      <td>5</td>\n",
       "    </tr>\n",
       "    <tr>\n",
       "      <th>4</th>\n",
       "      <td>great stay great stay, went seahawk game aweso...</td>\n",
       "      <td>5</td>\n",
       "    </tr>\n",
       "  </tbody>\n",
       "</table>\n",
       "</div>"
      ],
      "text/plain": [
       "                                              Review  Rating\n",
       "0  nice hotel expensive parking got good deal sta...       4\n",
       "1  ok nothing special charge diamond member hilto...       2\n",
       "2  nice rooms not 4* experience hotel monaco seat...       3\n",
       "3  unique, great stay, wonderful time hotel monac...       5\n",
       "4  great stay great stay, went seahawk game aweso...       5"
      ]
     },
     "execution_count": 4,
     "metadata": {},
     "output_type": "execute_result"
    }
   ],
   "source": [
    "df = pd.read_csv('../input/trip-advisor/tripadvisor_hotel_reviews.csv')\n",
    "df.head()"
   ]
  },
  {
   "cell_type": "code",
   "execution_count": 5,
   "id": "8b4ed0cb",
   "metadata": {
    "execution": {
     "iopub.execute_input": "2022-07-10T17:39:46.821441Z",
     "iopub.status.busy": "2022-07-10T17:39:46.820662Z",
     "iopub.status.idle": "2022-07-10T17:39:46.841384Z",
     "shell.execute_reply": "2022-07-10T17:39:46.840408Z"
    },
    "papermill": {
     "duration": 0.029649,
     "end_time": "2022-07-10T17:39:46.843456",
     "exception": false,
     "start_time": "2022-07-10T17:39:46.813807",
     "status": "completed"
    },
    "tags": []
   },
   "outputs": [
    {
     "data": {
      "text/plain": [
       "1.0    299\n",
       "0.0    201\n",
       "Name: label, dtype: int64"
      ]
     },
     "execution_count": 5,
     "metadata": {},
     "output_type": "execute_result"
    }
   ],
   "source": [
    "df.loc[df['Rating'] > 3, 'label'] = 1\n",
    "df.loc[df['Rating'] <= 3, 'label'] = 0\n",
    "\n",
    "df['label'].astype(int)\n",
    "df = df.drop(columns = 'Rating')\n",
    "\n",
    "batch_1 = df[:500]\n",
    "batch_1['label'].value_counts()"
   ]
  },
  {
   "cell_type": "markdown",
   "id": "14fc95f1",
   "metadata": {
    "papermill": {
     "duration": 0.005382,
     "end_time": "2022-07-10T17:39:46.854427",
     "exception": false,
     "start_time": "2022-07-10T17:39:46.849045",
     "status": "completed"
    },
    "tags": []
   },
   "source": [
    "**The result above shows that the data is balanced. So, we do not need to do any data preparation for our model.**"
   ]
  },
  {
   "cell_type": "markdown",
   "id": "92482cf7",
   "metadata": {
    "papermill": {
     "duration": 0.005356,
     "end_time": "2022-07-10T17:39:46.865448",
     "exception": false,
     "start_time": "2022-07-10T17:39:46.860092",
     "status": "completed"
    },
    "tags": []
   },
   "source": [
    "**Step3: In this step, we import pre-trained DistilBERT model and tokenizer together.**"
   ]
  },
  {
   "cell_type": "code",
   "execution_count": 6,
   "id": "f00d1203",
   "metadata": {
    "execution": {
     "iopub.execute_input": "2022-07-10T17:39:46.877846Z",
     "iopub.status.busy": "2022-07-10T17:39:46.877598Z",
     "iopub.status.idle": "2022-07-10T17:40:18.372015Z",
     "shell.execute_reply": "2022-07-10T17:40:18.370967Z"
    },
    "papermill": {
     "duration": 31.508086,
     "end_time": "2022-07-10T17:40:18.379304",
     "exception": false,
     "start_time": "2022-07-10T17:39:46.871218",
     "status": "completed"
    },
    "tags": []
   },
   "outputs": [
    {
     "data": {
      "application/vnd.jupyter.widget-view+json": {
       "model_id": "6a8445732d4b4c888bd8bb894616fc2d",
       "version_major": 2,
       "version_minor": 0
      },
      "text/plain": [
       "Downloading:   0%|          | 0.00/226k [00:00<?, ?B/s]"
      ]
     },
     "metadata": {},
     "output_type": "display_data"
    },
    {
     "data": {
      "application/vnd.jupyter.widget-view+json": {
       "model_id": "8e4b22bddd7e4398938d466c4809c244",
       "version_major": 2,
       "version_minor": 0
      },
      "text/plain": [
       "Downloading:   0%|          | 0.00/28.0 [00:00<?, ?B/s]"
      ]
     },
     "metadata": {},
     "output_type": "display_data"
    },
    {
     "data": {
      "application/vnd.jupyter.widget-view+json": {
       "model_id": "1f728c4ac0cd4705bec15b642b1ea5c0",
       "version_major": 2,
       "version_minor": 0
      },
      "text/plain": [
       "Downloading:   0%|          | 0.00/483 [00:00<?, ?B/s]"
      ]
     },
     "metadata": {},
     "output_type": "display_data"
    },
    {
     "data": {
      "application/vnd.jupyter.widget-view+json": {
       "model_id": "c3ac3b2c8d2341418c9a8e8a3884e12a",
       "version_major": 2,
       "version_minor": 0
      },
      "text/plain": [
       "Downloading:   0%|          | 0.00/256M [00:00<?, ?B/s]"
      ]
     },
     "metadata": {},
     "output_type": "display_data"
    },
    {
     "name": "stderr",
     "output_type": "stream",
     "text": [
      "Some weights of the model checkpoint at distilbert-base-uncased were not used when initializing DistilBertModel: ['vocab_layer_norm.bias', 'vocab_projector.weight', 'vocab_projector.bias', 'vocab_transform.bias', 'vocab_layer_norm.weight', 'vocab_transform.weight']\n",
      "- This IS expected if you are initializing DistilBertModel from the checkpoint of a model trained on another task or with another architecture (e.g. initializing a BertForSequenceClassification model from a BertForPreTraining model).\n",
      "- This IS NOT expected if you are initializing DistilBertModel from the checkpoint of a model that you expect to be exactly identical (initializing a BertForSequenceClassification model from a BertForSequenceClassification model).\n"
     ]
    }
   ],
   "source": [
    "model_class, tokenizer_class, pretrained_weights = (ppb.DistilBertModel,\n",
    "                                                   ppb.DistilBertTokenizer,\n",
    "                                                   'distilbert-base-uncased')\n",
    "tokenizer = tokenizer_class.from_pretrained(pretrained_weights)\n",
    "model = model_class.from_pretrained(pretrained_weights)"
   ]
  },
  {
   "cell_type": "markdown",
   "id": "11fc7851",
   "metadata": {
    "papermill": {
     "duration": 0.007132,
     "end_time": "2022-07-10T17:40:18.394105",
     "exception": false,
     "start_time": "2022-07-10T17:40:18.386973",
     "status": "completed"
    },
    "tags": []
   },
   "source": [
    "**Step4: Here, we’ll tokenize and process all sentences together as a batch. I have printed the tokenized values. As you see the output is all words ids.**"
   ]
  },
  {
   "cell_type": "code",
   "execution_count": 7,
   "id": "66e7df4a",
   "metadata": {
    "execution": {
     "iopub.execute_input": "2022-07-10T17:40:18.409706Z",
     "iopub.status.busy": "2022-07-10T17:40:18.409366Z",
     "iopub.status.idle": "2022-07-10T17:40:20.187587Z",
     "shell.execute_reply": "2022-07-10T17:40:20.186012Z"
    },
    "papermill": {
     "duration": 1.789132,
     "end_time": "2022-07-10T17:40:20.189915",
     "exception": false,
     "start_time": "2022-07-10T17:40:18.400783",
     "status": "completed"
    },
    "tags": []
   },
   "outputs": [
    {
     "name": "stdout",
     "output_type": "stream",
     "text": [
      "0      [101, 3835, 3309, 6450, 5581, 2288, 2204, 3066...\n",
      "1      [101, 7929, 2498, 2569, 3715, 6323, 2266, 1548...\n",
      "2      [101, 3835, 4734, 2025, 1018, 1008, 3325, 3309...\n",
      "3      [101, 4310, 1010, 2307, 2994, 1010, 6919, 2051...\n",
      "4      [101, 2307, 2994, 2307, 2994, 1010, 2253, 2712...\n",
      "                             ...                        \n",
      "495    [101, 21068, 3737, 3200, 6919, 3971, 5227, 603...\n",
      "496    [101, 20783, 3976, 2100, 2994, 15481, 4156, 47...\n",
      "497    [101, 26931, 1010, 2672, 3309, 11250, 3825, 39...\n",
      "498    [101, 2307, 3199, 3309, 17463, 14326, 3446, 15...\n",
      "499    [101, 5151, 20783, 26167, 2164, 4121, 2282, 44...\n",
      "Name: Review, Length: 500, dtype: object\n"
     ]
    }
   ],
   "source": [
    "tokenized = batch_1['Review'].apply((lambda x: tokenizer.encode(x, add_special_tokens = True,\n",
    "                                                               truncation = True,\n",
    "                                                               max_length = 250,\n",
    "                                                               padding = True)))\n",
    "print(tokenized)"
   ]
  },
  {
   "cell_type": "markdown",
   "id": "060d30a8",
   "metadata": {
    "papermill": {
     "duration": 0.00624,
     "end_time": "2022-07-10T17:40:20.202708",
     "exception": false,
     "start_time": "2022-07-10T17:40:20.196468",
     "status": "completed"
    },
    "tags": []
   },
   "source": [
    "**Step5: Do the padding. The dataset is currently a list (or pandas Series/DataFrame) of lists. Before DistilBERT can process this as input, we’ll need to make all the vectors the same size by padding shorter sentences. We selected the maximum length of the review sentences as 250 characters. Therefore any words beyond this threshold will be padded (shown as 0)**"
   ]
  },
  {
   "cell_type": "code",
   "execution_count": 8,
   "id": "a9bbf053",
   "metadata": {
    "execution": {
     "iopub.execute_input": "2022-07-10T17:40:20.217171Z",
     "iopub.status.busy": "2022-07-10T17:40:20.216401Z",
     "iopub.status.idle": "2022-07-10T17:40:20.246240Z",
     "shell.execute_reply": "2022-07-10T17:40:20.245286Z"
    },
    "papermill": {
     "duration": 0.03906,
     "end_time": "2022-07-10T17:40:20.248276",
     "exception": false,
     "start_time": "2022-07-10T17:40:20.209216",
     "status": "completed"
    },
    "tags": []
   },
   "outputs": [
    {
     "name": "stdout",
     "output_type": "stream",
     "text": [
      "tensor([[  101,  3835,  3309,  ...,     0,     0,     0],\n",
      "        [  101,  7929,  2498,  ...,  2460,  9109,   102],\n",
      "        [  101,  3835,  4734,  ...,  1005,  1056,   102],\n",
      "        ...,\n",
      "        [  101, 26931,  1010,  ...,     0,     0,     0],\n",
      "        [  101,  2307,  3199,  ...,     0,     0,     0],\n",
      "        [  101,  5151, 20783,  ...,     0,     0,     0]])\n"
     ]
    },
    {
     "data": {
      "text/plain": [
       "torch.Size([500, 250])"
      ]
     },
     "execution_count": 8,
     "metadata": {},
     "output_type": "execute_result"
    }
   ],
   "source": [
    "# Padding - we need to pad all the list to same size\n",
    "\n",
    "max_length = 250\n",
    "for i in tokenized.values:\n",
    "    if len(i) > max_length:\n",
    "        max_length = len(i)\n",
    "        \n",
    "padded = np.array([i + [0] * (max_length - len(i)) for i in tokenized.values])\n",
    "input_ids = torch.tensor(np.array(padded))\n",
    "print(input_ids)\n",
    "input_ids.shape"
   ]
  },
  {
   "cell_type": "markdown",
   "id": "a29541bc",
   "metadata": {
    "papermill": {
     "duration": 0.006202,
     "end_time": "2022-07-10T17:40:20.260866",
     "exception": false,
     "start_time": "2022-07-10T17:40:20.254664",
     "status": "completed"
    },
    "tags": []
   },
   "source": [
    "**Step6: Use the attention mask. The attention mask has the same length as padding. Attention mask creates array of 0s (pad token) and 1s (real token).**"
   ]
  },
  {
   "cell_type": "code",
   "execution_count": 9,
   "id": "beaa8dbc",
   "metadata": {
    "execution": {
     "iopub.execute_input": "2022-07-10T17:40:20.274798Z",
     "iopub.status.busy": "2022-07-10T17:40:20.274547Z",
     "iopub.status.idle": "2022-07-10T17:40:20.284610Z",
     "shell.execute_reply": "2022-07-10T17:40:20.283502Z"
    },
    "papermill": {
     "duration": 0.019793,
     "end_time": "2022-07-10T17:40:20.287069",
     "exception": false,
     "start_time": "2022-07-10T17:40:20.267276",
     "status": "completed"
    },
    "tags": []
   },
   "outputs": [
    {
     "name": "stdout",
     "output_type": "stream",
     "text": [
      "tensor([[1, 1, 1,  ..., 0, 0, 0],\n",
      "        [1, 1, 1,  ..., 1, 1, 1],\n",
      "        [1, 1, 1,  ..., 1, 1, 1],\n",
      "        ...,\n",
      "        [1, 1, 1,  ..., 0, 0, 0],\n",
      "        [1, 1, 1,  ..., 0, 0, 0],\n",
      "        [1, 1, 1,  ..., 0, 0, 0]])\n"
     ]
    },
    {
     "data": {
      "text/plain": [
       "torch.Size([500, 250])"
      ]
     },
     "execution_count": 9,
     "metadata": {},
     "output_type": "execute_result"
    }
   ],
   "source": [
    "# Masking\n",
    "\n",
    "attention_mask = np.where(padded != 0, 1, 0)\n",
    "attention_mask = torch.tensor(attention_mask)\n",
    "print(attention_mask)\n",
    "attention_mask.shape"
   ]
  },
  {
   "cell_type": "markdown",
   "id": "9fb7082d",
   "metadata": {
    "papermill": {
     "duration": 0.006894,
     "end_time": "2022-07-10T17:40:20.300558",
     "exception": false,
     "start_time": "2022-07-10T17:40:20.293664",
     "status": "completed"
    },
    "tags": []
   },
   "source": [
    "**Step7: We now create an input tensor out of the padded token matrix, and send that to DistilBERT.**"
   ]
  },
  {
   "cell_type": "code",
   "execution_count": 10,
   "id": "66b1877a",
   "metadata": {
    "execution": {
     "iopub.execute_input": "2022-07-10T17:40:20.314824Z",
     "iopub.status.busy": "2022-07-10T17:40:20.314568Z",
     "iopub.status.idle": "2022-07-10T17:42:41.505599Z",
     "shell.execute_reply": "2022-07-10T17:42:41.504567Z"
    },
    "papermill": {
     "duration": 141.20102,
     "end_time": "2022-07-10T17:42:41.508139",
     "exception": false,
     "start_time": "2022-07-10T17:40:20.307119",
     "status": "completed"
    },
    "tags": []
   },
   "outputs": [],
   "source": [
    "with torch.no_grad():\n",
    "    last_hidden_states = model(input_ids, attention_mask = attention_mask, return_dict = False)"
   ]
  },
  {
   "cell_type": "code",
   "execution_count": 11,
   "id": "e8cb09f6",
   "metadata": {
    "execution": {
     "iopub.execute_input": "2022-07-10T17:42:41.523623Z",
     "iopub.status.busy": "2022-07-10T17:42:41.523295Z",
     "iopub.status.idle": "2022-07-10T17:42:41.528354Z",
     "shell.execute_reply": "2022-07-10T17:42:41.527352Z"
    },
    "papermill": {
     "duration": 0.015294,
     "end_time": "2022-07-10T17:42:41.530519",
     "exception": false,
     "start_time": "2022-07-10T17:42:41.515225",
     "status": "completed"
    },
    "tags": []
   },
   "outputs": [],
   "source": [
    "features = last_hidden_states[0][:, 0, :].numpy()\n",
    "labels = batch_1['label']"
   ]
  },
  {
   "cell_type": "code",
   "execution_count": 12,
   "id": "f71097c3",
   "metadata": {
    "execution": {
     "iopub.execute_input": "2022-07-10T17:42:41.544811Z",
     "iopub.status.busy": "2022-07-10T17:42:41.544558Z",
     "iopub.status.idle": "2022-07-10T17:42:41.550118Z",
     "shell.execute_reply": "2022-07-10T17:42:41.549262Z"
    },
    "papermill": {
     "duration": 0.014758,
     "end_time": "2022-07-10T17:42:41.551883",
     "exception": false,
     "start_time": "2022-07-10T17:42:41.537125",
     "status": "completed"
    },
    "tags": []
   },
   "outputs": [
    {
     "data": {
      "text/plain": [
       "(500, 768)"
      ]
     },
     "execution_count": 12,
     "metadata": {},
     "output_type": "execute_result"
    }
   ],
   "source": [
    "features.shape"
   ]
  },
  {
   "cell_type": "code",
   "execution_count": 13,
   "id": "1fe990a9",
   "metadata": {
    "execution": {
     "iopub.execute_input": "2022-07-10T17:42:41.567381Z",
     "iopub.status.busy": "2022-07-10T17:42:41.566602Z",
     "iopub.status.idle": "2022-07-10T17:42:41.572526Z",
     "shell.execute_reply": "2022-07-10T17:42:41.571595Z"
    },
    "papermill": {
     "duration": 0.015406,
     "end_time": "2022-07-10T17:42:41.574400",
     "exception": false,
     "start_time": "2022-07-10T17:42:41.558994",
     "status": "completed"
    },
    "tags": []
   },
   "outputs": [
    {
     "data": {
      "text/plain": [
       "(500,)"
      ]
     },
     "execution_count": 13,
     "metadata": {},
     "output_type": "execute_result"
    }
   ],
   "source": [
    "labels.shape"
   ]
  },
  {
   "cell_type": "markdown",
   "id": "7947310d",
   "metadata": {
    "papermill": {
     "duration": 0.006828,
     "end_time": "2022-07-10T17:42:41.587889",
     "exception": false,
     "start_time": "2022-07-10T17:42:41.581061",
     "status": "completed"
    },
    "tags": []
   },
   "source": [
    "**Step 8: Divide data into train and test to evaluate the performance of our model and use logistic regression to evaluate the model performance.**"
   ]
  },
  {
   "cell_type": "code",
   "execution_count": 14,
   "id": "08055655",
   "metadata": {
    "execution": {
     "iopub.execute_input": "2022-07-10T17:42:41.602745Z",
     "iopub.status.busy": "2022-07-10T17:42:41.602114Z",
     "iopub.status.idle": "2022-07-10T17:42:41.711769Z",
     "shell.execute_reply": "2022-07-10T17:42:41.710840Z"
    },
    "papermill": {
     "duration": 0.120265,
     "end_time": "2022-07-10T17:42:41.714857",
     "exception": false,
     "start_time": "2022-07-10T17:42:41.594592",
     "status": "completed"
    },
    "tags": []
   },
   "outputs": [
    {
     "name": "stderr",
     "output_type": "stream",
     "text": [
      "/opt/conda/lib/python3.7/site-packages/sklearn/linear_model/_logistic.py:818: ConvergenceWarning: lbfgs failed to converge (status=1):\n",
      "STOP: TOTAL NO. of ITERATIONS REACHED LIMIT.\n",
      "\n",
      "Increase the number of iterations (max_iter) or scale the data as shown in:\n",
      "    https://scikit-learn.org/stable/modules/preprocessing.html\n",
      "Please also refer to the documentation for alternative solver options:\n",
      "    https://scikit-learn.org/stable/modules/linear_model.html#logistic-regression\n",
      "  extra_warning_msg=_LOGISTIC_SOLVER_CONVERGENCE_MSG,\n"
     ]
    },
    {
     "data": {
      "text/plain": [
       "LogisticRegression()"
      ]
     },
     "execution_count": 14,
     "metadata": {},
     "output_type": "execute_result"
    }
   ],
   "source": [
    "train_features, test_features, train_labels, test_labels = train_test_split(features, labels)\n",
    "\n",
    "lr_clf = LogisticRegression()\n",
    "lr_clf.fit(train_features, train_labels)"
   ]
  },
  {
   "cell_type": "code",
   "execution_count": 15,
   "id": "cdce924a",
   "metadata": {
    "execution": {
     "iopub.execute_input": "2022-07-10T17:42:41.742126Z",
     "iopub.status.busy": "2022-07-10T17:42:41.741735Z",
     "iopub.status.idle": "2022-07-10T17:42:41.749636Z",
     "shell.execute_reply": "2022-07-10T17:42:41.748761Z"
    },
    "papermill": {
     "duration": 0.024452,
     "end_time": "2022-07-10T17:42:41.752118",
     "exception": false,
     "start_time": "2022-07-10T17:42:41.727666",
     "status": "completed"
    },
    "tags": []
   },
   "outputs": [
    {
     "data": {
      "text/plain": [
       "0.784"
      ]
     },
     "execution_count": 15,
     "metadata": {},
     "output_type": "execute_result"
    }
   ],
   "source": [
    "lr_clf.score(test_features, test_labels)"
   ]
  },
  {
   "cell_type": "markdown",
   "id": "72752acc",
   "metadata": {
    "papermill": {
     "duration": 0.013663,
     "end_time": "2022-07-10T17:42:41.778918",
     "exception": false,
     "start_time": "2022-07-10T17:42:41.765255",
     "status": "completed"
    },
    "tags": []
   },
   "source": [
    "**Conclusion: the accuracy of our model is 0.84 which is pretty good.**"
   ]
  }
 ],
 "metadata": {
  "kernelspec": {
   "display_name": "Python 3",
   "language": "python",
   "name": "python3"
  },
  "language_info": {
   "codemirror_mode": {
    "name": "ipython",
    "version": 3
   },
   "file_extension": ".py",
   "mimetype": "text/x-python",
   "name": "python",
   "nbconvert_exporter": "python",
   "pygments_lexer": "ipython3",
   "version": "3.7.12"
  },
  "papermill": {
   "default_parameters": {},
   "duration": 204.422076,
   "end_time": "2022-07-10T17:42:44.811246",
   "environment_variables": {},
   "exception": null,
   "input_path": "__notebook__.ipynb",
   "output_path": "__notebook__.ipynb",
   "parameters": {},
   "start_time": "2022-07-10T17:39:20.389170",
   "version": "2.3.4"
  },
  "widgets": {
   "application/vnd.jupyter.widget-state+json": {
    "state": {
     "006cc0edf1404978acdcd358b5a338a2": {
      "model_module": "@jupyter-widgets/base",
      "model_module_version": "1.2.0",
      "model_name": "LayoutModel",
      "state": {
       "_model_module": "@jupyter-widgets/base",
       "_model_module_version": "1.2.0",
       "_model_name": "LayoutModel",
       "_view_count": null,
       "_view_module": "@jupyter-widgets/base",
       "_view_module_version": "1.2.0",
       "_view_name": "LayoutView",
       "align_content": null,
       "align_items": null,
       "align_self": null,
       "border": null,
       "bottom": null,
       "display": null,
       "flex": null,
       "flex_flow": null,
       "grid_area": null,
       "grid_auto_columns": null,
       "grid_auto_flow": null,
       "grid_auto_rows": null,
       "grid_column": null,
       "grid_gap": null,
       "grid_row": null,
       "grid_template_areas": null,
       "grid_template_columns": null,
       "grid_template_rows": null,
       "height": null,
       "justify_content": null,
       "justify_items": null,
       "left": null,
       "margin": null,
       "max_height": null,
       "max_width": null,
       "min_height": null,
       "min_width": null,
       "object_fit": null,
       "object_position": null,
       "order": null,
       "overflow": null,
       "overflow_x": null,
       "overflow_y": null,
       "padding": null,
       "right": null,
       "top": null,
       "visibility": null,
       "width": null
      }
     },
     "01bbfd0686b24919bc132f35cabd8e60": {
      "model_module": "@jupyter-widgets/controls",
      "model_module_version": "1.5.0",
      "model_name": "ProgressStyleModel",
      "state": {
       "_model_module": "@jupyter-widgets/controls",
       "_model_module_version": "1.5.0",
       "_model_name": "ProgressStyleModel",
       "_view_count": null,
       "_view_module": "@jupyter-widgets/base",
       "_view_module_version": "1.2.0",
       "_view_name": "StyleView",
       "bar_color": null,
       "description_width": ""
      }
     },
     "0a05f78bafaa4ffd8c4bdbc3da493871": {
      "model_module": "@jupyter-widgets/base",
      "model_module_version": "1.2.0",
      "model_name": "LayoutModel",
      "state": {
       "_model_module": "@jupyter-widgets/base",
       "_model_module_version": "1.2.0",
       "_model_name": "LayoutModel",
       "_view_count": null,
       "_view_module": "@jupyter-widgets/base",
       "_view_module_version": "1.2.0",
       "_view_name": "LayoutView",
       "align_content": null,
       "align_items": null,
       "align_self": null,
       "border": null,
       "bottom": null,
       "display": null,
       "flex": null,
       "flex_flow": null,
       "grid_area": null,
       "grid_auto_columns": null,
       "grid_auto_flow": null,
       "grid_auto_rows": null,
       "grid_column": null,
       "grid_gap": null,
       "grid_row": null,
       "grid_template_areas": null,
       "grid_template_columns": null,
       "grid_template_rows": null,
       "height": null,
       "justify_content": null,
       "justify_items": null,
       "left": null,
       "margin": null,
       "max_height": null,
       "max_width": null,
       "min_height": null,
       "min_width": null,
       "object_fit": null,
       "object_position": null,
       "order": null,
       "overflow": null,
       "overflow_x": null,
       "overflow_y": null,
       "padding": null,
       "right": null,
       "top": null,
       "visibility": null,
       "width": null
      }
     },
     "10b83b72ba6240b688c1690085e86134": {
      "model_module": "@jupyter-widgets/base",
      "model_module_version": "1.2.0",
      "model_name": "LayoutModel",
      "state": {
       "_model_module": "@jupyter-widgets/base",
       "_model_module_version": "1.2.0",
       "_model_name": "LayoutModel",
       "_view_count": null,
       "_view_module": "@jupyter-widgets/base",
       "_view_module_version": "1.2.0",
       "_view_name": "LayoutView",
       "align_content": null,
       "align_items": null,
       "align_self": null,
       "border": null,
       "bottom": null,
       "display": null,
       "flex": null,
       "flex_flow": null,
       "grid_area": null,
       "grid_auto_columns": null,
       "grid_auto_flow": null,
       "grid_auto_rows": null,
       "grid_column": null,
       "grid_gap": null,
       "grid_row": null,
       "grid_template_areas": null,
       "grid_template_columns": null,
       "grid_template_rows": null,
       "height": null,
       "justify_content": null,
       "justify_items": null,
       "left": null,
       "margin": null,
       "max_height": null,
       "max_width": null,
       "min_height": null,
       "min_width": null,
       "object_fit": null,
       "object_position": null,
       "order": null,
       "overflow": null,
       "overflow_x": null,
       "overflow_y": null,
       "padding": null,
       "right": null,
       "top": null,
       "visibility": null,
       "width": null
      }
     },
     "16ac7f894a224e6d9bb5de3c69cd61e9": {
      "model_module": "@jupyter-widgets/controls",
      "model_module_version": "1.5.0",
      "model_name": "HTMLModel",
      "state": {
       "_dom_classes": [],
       "_model_module": "@jupyter-widgets/controls",
       "_model_module_version": "1.5.0",
       "_model_name": "HTMLModel",
       "_view_count": null,
       "_view_module": "@jupyter-widgets/controls",
       "_view_module_version": "1.5.0",
       "_view_name": "HTMLView",
       "description": "",
       "description_tooltip": null,
       "layout": "IPY_MODEL_c76deef1d7244d119b1fa11bc181cfcb",
       "placeholder": "​",
       "style": "IPY_MODEL_483c8edb374d4f988c2d7c816a680121",
       "value": " 28.0/28.0 [00:00&lt;00:00, 921B/s]"
      }
     },
     "1a3f78280c7e402b92edf27c334e3bee": {
      "model_module": "@jupyter-widgets/base",
      "model_module_version": "1.2.0",
      "model_name": "LayoutModel",
      "state": {
       "_model_module": "@jupyter-widgets/base",
       "_model_module_version": "1.2.0",
       "_model_name": "LayoutModel",
       "_view_count": null,
       "_view_module": "@jupyter-widgets/base",
       "_view_module_version": "1.2.0",
       "_view_name": "LayoutView",
       "align_content": null,
       "align_items": null,
       "align_self": null,
       "border": null,
       "bottom": null,
       "display": null,
       "flex": null,
       "flex_flow": null,
       "grid_area": null,
       "grid_auto_columns": null,
       "grid_auto_flow": null,
       "grid_auto_rows": null,
       "grid_column": null,
       "grid_gap": null,
       "grid_row": null,
       "grid_template_areas": null,
       "grid_template_columns": null,
       "grid_template_rows": null,
       "height": null,
       "justify_content": null,
       "justify_items": null,
       "left": null,
       "margin": null,
       "max_height": null,
       "max_width": null,
       "min_height": null,
       "min_width": null,
       "object_fit": null,
       "object_position": null,
       "order": null,
       "overflow": null,
       "overflow_x": null,
       "overflow_y": null,
       "padding": null,
       "right": null,
       "top": null,
       "visibility": null,
       "width": null
      }
     },
     "1f728c4ac0cd4705bec15b642b1ea5c0": {
      "model_module": "@jupyter-widgets/controls",
      "model_module_version": "1.5.0",
      "model_name": "HBoxModel",
      "state": {
       "_dom_classes": [],
       "_model_module": "@jupyter-widgets/controls",
       "_model_module_version": "1.5.0",
       "_model_name": "HBoxModel",
       "_view_count": null,
       "_view_module": "@jupyter-widgets/controls",
       "_view_module_version": "1.5.0",
       "_view_name": "HBoxView",
       "box_style": "",
       "children": [
        "IPY_MODEL_efd79ba570cf472cb52893223acc6a9c",
        "IPY_MODEL_952a837d440b4ab5ad6bed02ac0b4a0c",
        "IPY_MODEL_42d8983d53134022bbbe2f21bcec1ac2"
       ],
       "layout": "IPY_MODEL_d8e24a77821940bfb5dbc5e19a557d0c"
      }
     },
     "1fa8623cb37b469f9b2352263d3de711": {
      "model_module": "@jupyter-widgets/controls",
      "model_module_version": "1.5.0",
      "model_name": "DescriptionStyleModel",
      "state": {
       "_model_module": "@jupyter-widgets/controls",
       "_model_module_version": "1.5.0",
       "_model_name": "DescriptionStyleModel",
       "_view_count": null,
       "_view_module": "@jupyter-widgets/base",
       "_view_module_version": "1.2.0",
       "_view_name": "StyleView",
       "description_width": ""
      }
     },
     "228704f8857b42fe9a65cd264b45f4fa": {
      "model_module": "@jupyter-widgets/base",
      "model_module_version": "1.2.0",
      "model_name": "LayoutModel",
      "state": {
       "_model_module": "@jupyter-widgets/base",
       "_model_module_version": "1.2.0",
       "_model_name": "LayoutModel",
       "_view_count": null,
       "_view_module": "@jupyter-widgets/base",
       "_view_module_version": "1.2.0",
       "_view_name": "LayoutView",
       "align_content": null,
       "align_items": null,
       "align_self": null,
       "border": null,
       "bottom": null,
       "display": null,
       "flex": null,
       "flex_flow": null,
       "grid_area": null,
       "grid_auto_columns": null,
       "grid_auto_flow": null,
       "grid_auto_rows": null,
       "grid_column": null,
       "grid_gap": null,
       "grid_row": null,
       "grid_template_areas": null,
       "grid_template_columns": null,
       "grid_template_rows": null,
       "height": null,
       "justify_content": null,
       "justify_items": null,
       "left": null,
       "margin": null,
       "max_height": null,
       "max_width": null,
       "min_height": null,
       "min_width": null,
       "object_fit": null,
       "object_position": null,
       "order": null,
       "overflow": null,
       "overflow_x": null,
       "overflow_y": null,
       "padding": null,
       "right": null,
       "top": null,
       "visibility": null,
       "width": null
      }
     },
     "32783b335e204fa98da14e43e2b02be5": {
      "model_module": "@jupyter-widgets/controls",
      "model_module_version": "1.5.0",
      "model_name": "FloatProgressModel",
      "state": {
       "_dom_classes": [],
       "_model_module": "@jupyter-widgets/controls",
       "_model_module_version": "1.5.0",
       "_model_name": "FloatProgressModel",
       "_view_count": null,
       "_view_module": "@jupyter-widgets/controls",
       "_view_module_version": "1.5.0",
       "_view_name": "ProgressView",
       "bar_style": "success",
       "description": "",
       "description_tooltip": null,
       "layout": "IPY_MODEL_d6ffb3da6b0643e793c93158aba49612",
       "max": 267967963.0,
       "min": 0.0,
       "orientation": "horizontal",
       "style": "IPY_MODEL_a8d8a7aea6794a8c84b8970a552b5331",
       "value": 267967963.0
      }
     },
     "32f10a90e06348358d213ff7aa8c98d6": {
      "model_module": "@jupyter-widgets/controls",
      "model_module_version": "1.5.0",
      "model_name": "HTMLModel",
      "state": {
       "_dom_classes": [],
       "_model_module": "@jupyter-widgets/controls",
       "_model_module_version": "1.5.0",
       "_model_name": "HTMLModel",
       "_view_count": null,
       "_view_module": "@jupyter-widgets/controls",
       "_view_module_version": "1.5.0",
       "_view_name": "HTMLView",
       "description": "",
       "description_tooltip": null,
       "layout": "IPY_MODEL_228704f8857b42fe9a65cd264b45f4fa",
       "placeholder": "​",
       "style": "IPY_MODEL_769a0d451ef6487b99aff8322d66f5b7",
       "value": "Downloading: 100%"
      }
     },
     "42d8983d53134022bbbe2f21bcec1ac2": {
      "model_module": "@jupyter-widgets/controls",
      "model_module_version": "1.5.0",
      "model_name": "HTMLModel",
      "state": {
       "_dom_classes": [],
       "_model_module": "@jupyter-widgets/controls",
       "_model_module_version": "1.5.0",
       "_model_name": "HTMLModel",
       "_view_count": null,
       "_view_module": "@jupyter-widgets/controls",
       "_view_module_version": "1.5.0",
       "_view_name": "HTMLView",
       "description": "",
       "description_tooltip": null,
       "layout": "IPY_MODEL_638ed76b5a8d44389d781bb250490f4e",
       "placeholder": "​",
       "style": "IPY_MODEL_5991898c5df94b12bf282dcce235b2af",
       "value": " 483/483 [00:00&lt;00:00, 17.9kB/s]"
      }
     },
     "483c8edb374d4f988c2d7c816a680121": {
      "model_module": "@jupyter-widgets/controls",
      "model_module_version": "1.5.0",
      "model_name": "DescriptionStyleModel",
      "state": {
       "_model_module": "@jupyter-widgets/controls",
       "_model_module_version": "1.5.0",
       "_model_name": "DescriptionStyleModel",
       "_view_count": null,
       "_view_module": "@jupyter-widgets/base",
       "_view_module_version": "1.2.0",
       "_view_name": "StyleView",
       "description_width": ""
      }
     },
     "4aa24a97ae7d4eeeb5b724db12ca5a71": {
      "model_module": "@jupyter-widgets/controls",
      "model_module_version": "1.5.0",
      "model_name": "FloatProgressModel",
      "state": {
       "_dom_classes": [],
       "_model_module": "@jupyter-widgets/controls",
       "_model_module_version": "1.5.0",
       "_model_name": "FloatProgressModel",
       "_view_count": null,
       "_view_module": "@jupyter-widgets/controls",
       "_view_module_version": "1.5.0",
       "_view_name": "ProgressView",
       "bar_style": "success",
       "description": "",
       "description_tooltip": null,
       "layout": "IPY_MODEL_0a05f78bafaa4ffd8c4bdbc3da493871",
       "max": 231508.0,
       "min": 0.0,
       "orientation": "horizontal",
       "style": "IPY_MODEL_01bbfd0686b24919bc132f35cabd8e60",
       "value": 231508.0
      }
     },
     "57b50ed5d34c45ddb447716b6f24afd5": {
      "model_module": "@jupyter-widgets/controls",
      "model_module_version": "1.5.0",
      "model_name": "FloatProgressModel",
      "state": {
       "_dom_classes": [],
       "_model_module": "@jupyter-widgets/controls",
       "_model_module_version": "1.5.0",
       "_model_name": "FloatProgressModel",
       "_view_count": null,
       "_view_module": "@jupyter-widgets/controls",
       "_view_module_version": "1.5.0",
       "_view_name": "ProgressView",
       "bar_style": "success",
       "description": "",
       "description_tooltip": null,
       "layout": "IPY_MODEL_98fa69f1f417493aa9a3ee2f7a0da98f",
       "max": 28.0,
       "min": 0.0,
       "orientation": "horizontal",
       "style": "IPY_MODEL_ebb20be40c604d6088ef14e6b40f8d7a",
       "value": 28.0
      }
     },
     "5991898c5df94b12bf282dcce235b2af": {
      "model_module": "@jupyter-widgets/controls",
      "model_module_version": "1.5.0",
      "model_name": "DescriptionStyleModel",
      "state": {
       "_model_module": "@jupyter-widgets/controls",
       "_model_module_version": "1.5.0",
       "_model_name": "DescriptionStyleModel",
       "_view_count": null,
       "_view_module": "@jupyter-widgets/base",
       "_view_module_version": "1.2.0",
       "_view_name": "StyleView",
       "description_width": ""
      }
     },
     "6176a527b64d4fe9afe592743134ad13": {
      "model_module": "@jupyter-widgets/base",
      "model_module_version": "1.2.0",
      "model_name": "LayoutModel",
      "state": {
       "_model_module": "@jupyter-widgets/base",
       "_model_module_version": "1.2.0",
       "_model_name": "LayoutModel",
       "_view_count": null,
       "_view_module": "@jupyter-widgets/base",
       "_view_module_version": "1.2.0",
       "_view_name": "LayoutView",
       "align_content": null,
       "align_items": null,
       "align_self": null,
       "border": null,
       "bottom": null,
       "display": null,
       "flex": null,
       "flex_flow": null,
       "grid_area": null,
       "grid_auto_columns": null,
       "grid_auto_flow": null,
       "grid_auto_rows": null,
       "grid_column": null,
       "grid_gap": null,
       "grid_row": null,
       "grid_template_areas": null,
       "grid_template_columns": null,
       "grid_template_rows": null,
       "height": null,
       "justify_content": null,
       "justify_items": null,
       "left": null,
       "margin": null,
       "max_height": null,
       "max_width": null,
       "min_height": null,
       "min_width": null,
       "object_fit": null,
       "object_position": null,
       "order": null,
       "overflow": null,
       "overflow_x": null,
       "overflow_y": null,
       "padding": null,
       "right": null,
       "top": null,
       "visibility": null,
       "width": null
      }
     },
     "62fb6630bb724eccbdc90f8bd568ec4a": {
      "model_module": "@jupyter-widgets/base",
      "model_module_version": "1.2.0",
      "model_name": "LayoutModel",
      "state": {
       "_model_module": "@jupyter-widgets/base",
       "_model_module_version": "1.2.0",
       "_model_name": "LayoutModel",
       "_view_count": null,
       "_view_module": "@jupyter-widgets/base",
       "_view_module_version": "1.2.0",
       "_view_name": "LayoutView",
       "align_content": null,
       "align_items": null,
       "align_self": null,
       "border": null,
       "bottom": null,
       "display": null,
       "flex": null,
       "flex_flow": null,
       "grid_area": null,
       "grid_auto_columns": null,
       "grid_auto_flow": null,
       "grid_auto_rows": null,
       "grid_column": null,
       "grid_gap": null,
       "grid_row": null,
       "grid_template_areas": null,
       "grid_template_columns": null,
       "grid_template_rows": null,
       "height": null,
       "justify_content": null,
       "justify_items": null,
       "left": null,
       "margin": null,
       "max_height": null,
       "max_width": null,
       "min_height": null,
       "min_width": null,
       "object_fit": null,
       "object_position": null,
       "order": null,
       "overflow": null,
       "overflow_x": null,
       "overflow_y": null,
       "padding": null,
       "right": null,
       "top": null,
       "visibility": null,
       "width": null
      }
     },
     "638ed76b5a8d44389d781bb250490f4e": {
      "model_module": "@jupyter-widgets/base",
      "model_module_version": "1.2.0",
      "model_name": "LayoutModel",
      "state": {
       "_model_module": "@jupyter-widgets/base",
       "_model_module_version": "1.2.0",
       "_model_name": "LayoutModel",
       "_view_count": null,
       "_view_module": "@jupyter-widgets/base",
       "_view_module_version": "1.2.0",
       "_view_name": "LayoutView",
       "align_content": null,
       "align_items": null,
       "align_self": null,
       "border": null,
       "bottom": null,
       "display": null,
       "flex": null,
       "flex_flow": null,
       "grid_area": null,
       "grid_auto_columns": null,
       "grid_auto_flow": null,
       "grid_auto_rows": null,
       "grid_column": null,
       "grid_gap": null,
       "grid_row": null,
       "grid_template_areas": null,
       "grid_template_columns": null,
       "grid_template_rows": null,
       "height": null,
       "justify_content": null,
       "justify_items": null,
       "left": null,
       "margin": null,
       "max_height": null,
       "max_width": null,
       "min_height": null,
       "min_width": null,
       "object_fit": null,
       "object_position": null,
       "order": null,
       "overflow": null,
       "overflow_x": null,
       "overflow_y": null,
       "padding": null,
       "right": null,
       "top": null,
       "visibility": null,
       "width": null
      }
     },
     "676522b6f0224cc6b243c214265a248b": {
      "model_module": "@jupyter-widgets/controls",
      "model_module_version": "1.5.0",
      "model_name": "DescriptionStyleModel",
      "state": {
       "_model_module": "@jupyter-widgets/controls",
       "_model_module_version": "1.5.0",
       "_model_name": "DescriptionStyleModel",
       "_view_count": null,
       "_view_module": "@jupyter-widgets/base",
       "_view_module_version": "1.2.0",
       "_view_name": "StyleView",
       "description_width": ""
      }
     },
     "6a8445732d4b4c888bd8bb894616fc2d": {
      "model_module": "@jupyter-widgets/controls",
      "model_module_version": "1.5.0",
      "model_name": "HBoxModel",
      "state": {
       "_dom_classes": [],
       "_model_module": "@jupyter-widgets/controls",
       "_model_module_version": "1.5.0",
       "_model_name": "HBoxModel",
       "_view_count": null,
       "_view_module": "@jupyter-widgets/controls",
       "_view_module_version": "1.5.0",
       "_view_name": "HBoxView",
       "box_style": "",
       "children": [
        "IPY_MODEL_32f10a90e06348358d213ff7aa8c98d6",
        "IPY_MODEL_4aa24a97ae7d4eeeb5b724db12ca5a71",
        "IPY_MODEL_82e10acf384a43fe9baeb77245cba2fc"
       ],
       "layout": "IPY_MODEL_10b83b72ba6240b688c1690085e86134"
      }
     },
     "6fa27bfbe4ac46d58acff993ec785169": {
      "model_module": "@jupyter-widgets/controls",
      "model_module_version": "1.5.0",
      "model_name": "ProgressStyleModel",
      "state": {
       "_model_module": "@jupyter-widgets/controls",
       "_model_module_version": "1.5.0",
       "_model_name": "ProgressStyleModel",
       "_view_count": null,
       "_view_module": "@jupyter-widgets/base",
       "_view_module_version": "1.2.0",
       "_view_name": "StyleView",
       "bar_color": null,
       "description_width": ""
      }
     },
     "769a0d451ef6487b99aff8322d66f5b7": {
      "model_module": "@jupyter-widgets/controls",
      "model_module_version": "1.5.0",
      "model_name": "DescriptionStyleModel",
      "state": {
       "_model_module": "@jupyter-widgets/controls",
       "_model_module_version": "1.5.0",
       "_model_name": "DescriptionStyleModel",
       "_view_count": null,
       "_view_module": "@jupyter-widgets/base",
       "_view_module_version": "1.2.0",
       "_view_name": "StyleView",
       "description_width": ""
      }
     },
     "7b17b83226e54c358b8614e84a157bf2": {
      "model_module": "@jupyter-widgets/base",
      "model_module_version": "1.2.0",
      "model_name": "LayoutModel",
      "state": {
       "_model_module": "@jupyter-widgets/base",
       "_model_module_version": "1.2.0",
       "_model_name": "LayoutModel",
       "_view_count": null,
       "_view_module": "@jupyter-widgets/base",
       "_view_module_version": "1.2.0",
       "_view_name": "LayoutView",
       "align_content": null,
       "align_items": null,
       "align_self": null,
       "border": null,
       "bottom": null,
       "display": null,
       "flex": null,
       "flex_flow": null,
       "grid_area": null,
       "grid_auto_columns": null,
       "grid_auto_flow": null,
       "grid_auto_rows": null,
       "grid_column": null,
       "grid_gap": null,
       "grid_row": null,
       "grid_template_areas": null,
       "grid_template_columns": null,
       "grid_template_rows": null,
       "height": null,
       "justify_content": null,
       "justify_items": null,
       "left": null,
       "margin": null,
       "max_height": null,
       "max_width": null,
       "min_height": null,
       "min_width": null,
       "object_fit": null,
       "object_position": null,
       "order": null,
       "overflow": null,
       "overflow_x": null,
       "overflow_y": null,
       "padding": null,
       "right": null,
       "top": null,
       "visibility": null,
       "width": null
      }
     },
     "82e10acf384a43fe9baeb77245cba2fc": {
      "model_module": "@jupyter-widgets/controls",
      "model_module_version": "1.5.0",
      "model_name": "HTMLModel",
      "state": {
       "_dom_classes": [],
       "_model_module": "@jupyter-widgets/controls",
       "_model_module_version": "1.5.0",
       "_model_name": "HTMLModel",
       "_view_count": null,
       "_view_module": "@jupyter-widgets/controls",
       "_view_module_version": "1.5.0",
       "_view_name": "HTMLView",
       "description": "",
       "description_tooltip": null,
       "layout": "IPY_MODEL_62fb6630bb724eccbdc90f8bd568ec4a",
       "placeholder": "​",
       "style": "IPY_MODEL_c4939f728c9c4f77a8bfca8bb0e89091",
       "value": " 226k/226k [00:00&lt;00:00, 301kB/s]"
      }
     },
     "8e4b22bddd7e4398938d466c4809c244": {
      "model_module": "@jupyter-widgets/controls",
      "model_module_version": "1.5.0",
      "model_name": "HBoxModel",
      "state": {
       "_dom_classes": [],
       "_model_module": "@jupyter-widgets/controls",
       "_model_module_version": "1.5.0",
       "_model_name": "HBoxModel",
       "_view_count": null,
       "_view_module": "@jupyter-widgets/controls",
       "_view_module_version": "1.5.0",
       "_view_name": "HBoxView",
       "box_style": "",
       "children": [
        "IPY_MODEL_e6ede0415ee84333ba710be9b243d48b",
        "IPY_MODEL_57b50ed5d34c45ddb447716b6f24afd5",
        "IPY_MODEL_16ac7f894a224e6d9bb5de3c69cd61e9"
       ],
       "layout": "IPY_MODEL_9eb743c5d06e4ee7a990239bd1c64e12"
      }
     },
     "952a837d440b4ab5ad6bed02ac0b4a0c": {
      "model_module": "@jupyter-widgets/controls",
      "model_module_version": "1.5.0",
      "model_name": "FloatProgressModel",
      "state": {
       "_dom_classes": [],
       "_model_module": "@jupyter-widgets/controls",
       "_model_module_version": "1.5.0",
       "_model_name": "FloatProgressModel",
       "_view_count": null,
       "_view_module": "@jupyter-widgets/controls",
       "_view_module_version": "1.5.0",
       "_view_name": "ProgressView",
       "bar_style": "success",
       "description": "",
       "description_tooltip": null,
       "layout": "IPY_MODEL_1a3f78280c7e402b92edf27c334e3bee",
       "max": 483.0,
       "min": 0.0,
       "orientation": "horizontal",
       "style": "IPY_MODEL_6fa27bfbe4ac46d58acff993ec785169",
       "value": 483.0
      }
     },
     "966d1ad0a5a34a9c8ac4ac6721d6cf46": {
      "model_module": "@jupyter-widgets/controls",
      "model_module_version": "1.5.0",
      "model_name": "DescriptionStyleModel",
      "state": {
       "_model_module": "@jupyter-widgets/controls",
       "_model_module_version": "1.5.0",
       "_model_name": "DescriptionStyleModel",
       "_view_count": null,
       "_view_module": "@jupyter-widgets/base",
       "_view_module_version": "1.2.0",
       "_view_name": "StyleView",
       "description_width": ""
      }
     },
     "98fa69f1f417493aa9a3ee2f7a0da98f": {
      "model_module": "@jupyter-widgets/base",
      "model_module_version": "1.2.0",
      "model_name": "LayoutModel",
      "state": {
       "_model_module": "@jupyter-widgets/base",
       "_model_module_version": "1.2.0",
       "_model_name": "LayoutModel",
       "_view_count": null,
       "_view_module": "@jupyter-widgets/base",
       "_view_module_version": "1.2.0",
       "_view_name": "LayoutView",
       "align_content": null,
       "align_items": null,
       "align_self": null,
       "border": null,
       "bottom": null,
       "display": null,
       "flex": null,
       "flex_flow": null,
       "grid_area": null,
       "grid_auto_columns": null,
       "grid_auto_flow": null,
       "grid_auto_rows": null,
       "grid_column": null,
       "grid_gap": null,
       "grid_row": null,
       "grid_template_areas": null,
       "grid_template_columns": null,
       "grid_template_rows": null,
       "height": null,
       "justify_content": null,
       "justify_items": null,
       "left": null,
       "margin": null,
       "max_height": null,
       "max_width": null,
       "min_height": null,
       "min_width": null,
       "object_fit": null,
       "object_position": null,
       "order": null,
       "overflow": null,
       "overflow_x": null,
       "overflow_y": null,
       "padding": null,
       "right": null,
       "top": null,
       "visibility": null,
       "width": null
      }
     },
     "9eb743c5d06e4ee7a990239bd1c64e12": {
      "model_module": "@jupyter-widgets/base",
      "model_module_version": "1.2.0",
      "model_name": "LayoutModel",
      "state": {
       "_model_module": "@jupyter-widgets/base",
       "_model_module_version": "1.2.0",
       "_model_name": "LayoutModel",
       "_view_count": null,
       "_view_module": "@jupyter-widgets/base",
       "_view_module_version": "1.2.0",
       "_view_name": "LayoutView",
       "align_content": null,
       "align_items": null,
       "align_self": null,
       "border": null,
       "bottom": null,
       "display": null,
       "flex": null,
       "flex_flow": null,
       "grid_area": null,
       "grid_auto_columns": null,
       "grid_auto_flow": null,
       "grid_auto_rows": null,
       "grid_column": null,
       "grid_gap": null,
       "grid_row": null,
       "grid_template_areas": null,
       "grid_template_columns": null,
       "grid_template_rows": null,
       "height": null,
       "justify_content": null,
       "justify_items": null,
       "left": null,
       "margin": null,
       "max_height": null,
       "max_width": null,
       "min_height": null,
       "min_width": null,
       "object_fit": null,
       "object_position": null,
       "order": null,
       "overflow": null,
       "overflow_x": null,
       "overflow_y": null,
       "padding": null,
       "right": null,
       "top": null,
       "visibility": null,
       "width": null
      }
     },
     "a48794df11d644deaab59987884b80fd": {
      "model_module": "@jupyter-widgets/base",
      "model_module_version": "1.2.0",
      "model_name": "LayoutModel",
      "state": {
       "_model_module": "@jupyter-widgets/base",
       "_model_module_version": "1.2.0",
       "_model_name": "LayoutModel",
       "_view_count": null,
       "_view_module": "@jupyter-widgets/base",
       "_view_module_version": "1.2.0",
       "_view_name": "LayoutView",
       "align_content": null,
       "align_items": null,
       "align_self": null,
       "border": null,
       "bottom": null,
       "display": null,
       "flex": null,
       "flex_flow": null,
       "grid_area": null,
       "grid_auto_columns": null,
       "grid_auto_flow": null,
       "grid_auto_rows": null,
       "grid_column": null,
       "grid_gap": null,
       "grid_row": null,
       "grid_template_areas": null,
       "grid_template_columns": null,
       "grid_template_rows": null,
       "height": null,
       "justify_content": null,
       "justify_items": null,
       "left": null,
       "margin": null,
       "max_height": null,
       "max_width": null,
       "min_height": null,
       "min_width": null,
       "object_fit": null,
       "object_position": null,
       "order": null,
       "overflow": null,
       "overflow_x": null,
       "overflow_y": null,
       "padding": null,
       "right": null,
       "top": null,
       "visibility": null,
       "width": null
      }
     },
     "a70607d57282423eb0c09b52f5689182": {
      "model_module": "@jupyter-widgets/controls",
      "model_module_version": "1.5.0",
      "model_name": "DescriptionStyleModel",
      "state": {
       "_model_module": "@jupyter-widgets/controls",
       "_model_module_version": "1.5.0",
       "_model_name": "DescriptionStyleModel",
       "_view_count": null,
       "_view_module": "@jupyter-widgets/base",
       "_view_module_version": "1.2.0",
       "_view_name": "StyleView",
       "description_width": ""
      }
     },
     "a8d8a7aea6794a8c84b8970a552b5331": {
      "model_module": "@jupyter-widgets/controls",
      "model_module_version": "1.5.0",
      "model_name": "ProgressStyleModel",
      "state": {
       "_model_module": "@jupyter-widgets/controls",
       "_model_module_version": "1.5.0",
       "_model_name": "ProgressStyleModel",
       "_view_count": null,
       "_view_module": "@jupyter-widgets/base",
       "_view_module_version": "1.2.0",
       "_view_name": "StyleView",
       "bar_color": null,
       "description_width": ""
      }
     },
     "c3ac3b2c8d2341418c9a8e8a3884e12a": {
      "model_module": "@jupyter-widgets/controls",
      "model_module_version": "1.5.0",
      "model_name": "HBoxModel",
      "state": {
       "_dom_classes": [],
       "_model_module": "@jupyter-widgets/controls",
       "_model_module_version": "1.5.0",
       "_model_name": "HBoxModel",
       "_view_count": null,
       "_view_module": "@jupyter-widgets/controls",
       "_view_module_version": "1.5.0",
       "_view_name": "HBoxView",
       "box_style": "",
       "children": [
        "IPY_MODEL_f619e1da1a284098ae1832d06a4a8ce5",
        "IPY_MODEL_32783b335e204fa98da14e43e2b02be5",
        "IPY_MODEL_ebe8ba7c62a3499daa335fc5adfacf0d"
       ],
       "layout": "IPY_MODEL_7b17b83226e54c358b8614e84a157bf2"
      }
     },
     "c4939f728c9c4f77a8bfca8bb0e89091": {
      "model_module": "@jupyter-widgets/controls",
      "model_module_version": "1.5.0",
      "model_name": "DescriptionStyleModel",
      "state": {
       "_model_module": "@jupyter-widgets/controls",
       "_model_module_version": "1.5.0",
       "_model_name": "DescriptionStyleModel",
       "_view_count": null,
       "_view_module": "@jupyter-widgets/base",
       "_view_module_version": "1.2.0",
       "_view_name": "StyleView",
       "description_width": ""
      }
     },
     "c76deef1d7244d119b1fa11bc181cfcb": {
      "model_module": "@jupyter-widgets/base",
      "model_module_version": "1.2.0",
      "model_name": "LayoutModel",
      "state": {
       "_model_module": "@jupyter-widgets/base",
       "_model_module_version": "1.2.0",
       "_model_name": "LayoutModel",
       "_view_count": null,
       "_view_module": "@jupyter-widgets/base",
       "_view_module_version": "1.2.0",
       "_view_name": "LayoutView",
       "align_content": null,
       "align_items": null,
       "align_self": null,
       "border": null,
       "bottom": null,
       "display": null,
       "flex": null,
       "flex_flow": null,
       "grid_area": null,
       "grid_auto_columns": null,
       "grid_auto_flow": null,
       "grid_auto_rows": null,
       "grid_column": null,
       "grid_gap": null,
       "grid_row": null,
       "grid_template_areas": null,
       "grid_template_columns": null,
       "grid_template_rows": null,
       "height": null,
       "justify_content": null,
       "justify_items": null,
       "left": null,
       "margin": null,
       "max_height": null,
       "max_width": null,
       "min_height": null,
       "min_width": null,
       "object_fit": null,
       "object_position": null,
       "order": null,
       "overflow": null,
       "overflow_x": null,
       "overflow_y": null,
       "padding": null,
       "right": null,
       "top": null,
       "visibility": null,
       "width": null
      }
     },
     "d6ffb3da6b0643e793c93158aba49612": {
      "model_module": "@jupyter-widgets/base",
      "model_module_version": "1.2.0",
      "model_name": "LayoutModel",
      "state": {
       "_model_module": "@jupyter-widgets/base",
       "_model_module_version": "1.2.0",
       "_model_name": "LayoutModel",
       "_view_count": null,
       "_view_module": "@jupyter-widgets/base",
       "_view_module_version": "1.2.0",
       "_view_name": "LayoutView",
       "align_content": null,
       "align_items": null,
       "align_self": null,
       "border": null,
       "bottom": null,
       "display": null,
       "flex": null,
       "flex_flow": null,
       "grid_area": null,
       "grid_auto_columns": null,
       "grid_auto_flow": null,
       "grid_auto_rows": null,
       "grid_column": null,
       "grid_gap": null,
       "grid_row": null,
       "grid_template_areas": null,
       "grid_template_columns": null,
       "grid_template_rows": null,
       "height": null,
       "justify_content": null,
       "justify_items": null,
       "left": null,
       "margin": null,
       "max_height": null,
       "max_width": null,
       "min_height": null,
       "min_width": null,
       "object_fit": null,
       "object_position": null,
       "order": null,
       "overflow": null,
       "overflow_x": null,
       "overflow_y": null,
       "padding": null,
       "right": null,
       "top": null,
       "visibility": null,
       "width": null
      }
     },
     "d8e24a77821940bfb5dbc5e19a557d0c": {
      "model_module": "@jupyter-widgets/base",
      "model_module_version": "1.2.0",
      "model_name": "LayoutModel",
      "state": {
       "_model_module": "@jupyter-widgets/base",
       "_model_module_version": "1.2.0",
       "_model_name": "LayoutModel",
       "_view_count": null,
       "_view_module": "@jupyter-widgets/base",
       "_view_module_version": "1.2.0",
       "_view_name": "LayoutView",
       "align_content": null,
       "align_items": null,
       "align_self": null,
       "border": null,
       "bottom": null,
       "display": null,
       "flex": null,
       "flex_flow": null,
       "grid_area": null,
       "grid_auto_columns": null,
       "grid_auto_flow": null,
       "grid_auto_rows": null,
       "grid_column": null,
       "grid_gap": null,
       "grid_row": null,
       "grid_template_areas": null,
       "grid_template_columns": null,
       "grid_template_rows": null,
       "height": null,
       "justify_content": null,
       "justify_items": null,
       "left": null,
       "margin": null,
       "max_height": null,
       "max_width": null,
       "min_height": null,
       "min_width": null,
       "object_fit": null,
       "object_position": null,
       "order": null,
       "overflow": null,
       "overflow_x": null,
       "overflow_y": null,
       "padding": null,
       "right": null,
       "top": null,
       "visibility": null,
       "width": null
      }
     },
     "e6ede0415ee84333ba710be9b243d48b": {
      "model_module": "@jupyter-widgets/controls",
      "model_module_version": "1.5.0",
      "model_name": "HTMLModel",
      "state": {
       "_dom_classes": [],
       "_model_module": "@jupyter-widgets/controls",
       "_model_module_version": "1.5.0",
       "_model_name": "HTMLModel",
       "_view_count": null,
       "_view_module": "@jupyter-widgets/controls",
       "_view_module_version": "1.5.0",
       "_view_name": "HTMLView",
       "description": "",
       "description_tooltip": null,
       "layout": "IPY_MODEL_006cc0edf1404978acdcd358b5a338a2",
       "placeholder": "​",
       "style": "IPY_MODEL_1fa8623cb37b469f9b2352263d3de711",
       "value": "Downloading: 100%"
      }
     },
     "ebb20be40c604d6088ef14e6b40f8d7a": {
      "model_module": "@jupyter-widgets/controls",
      "model_module_version": "1.5.0",
      "model_name": "ProgressStyleModel",
      "state": {
       "_model_module": "@jupyter-widgets/controls",
       "_model_module_version": "1.5.0",
       "_model_name": "ProgressStyleModel",
       "_view_count": null,
       "_view_module": "@jupyter-widgets/base",
       "_view_module_version": "1.2.0",
       "_view_name": "StyleView",
       "bar_color": null,
       "description_width": ""
      }
     },
     "ebe8ba7c62a3499daa335fc5adfacf0d": {
      "model_module": "@jupyter-widgets/controls",
      "model_module_version": "1.5.0",
      "model_name": "HTMLModel",
      "state": {
       "_dom_classes": [],
       "_model_module": "@jupyter-widgets/controls",
       "_model_module_version": "1.5.0",
       "_model_name": "HTMLModel",
       "_view_count": null,
       "_view_module": "@jupyter-widgets/controls",
       "_view_module_version": "1.5.0",
       "_view_name": "HTMLView",
       "description": "",
       "description_tooltip": null,
       "layout": "IPY_MODEL_6176a527b64d4fe9afe592743134ad13",
       "placeholder": "​",
       "style": "IPY_MODEL_676522b6f0224cc6b243c214265a248b",
       "value": " 256M/256M [00:18&lt;00:00, 16.3MB/s]"
      }
     },
     "eedf3085055e419f9992058d92024abd": {
      "model_module": "@jupyter-widgets/base",
      "model_module_version": "1.2.0",
      "model_name": "LayoutModel",
      "state": {
       "_model_module": "@jupyter-widgets/base",
       "_model_module_version": "1.2.0",
       "_model_name": "LayoutModel",
       "_view_count": null,
       "_view_module": "@jupyter-widgets/base",
       "_view_module_version": "1.2.0",
       "_view_name": "LayoutView",
       "align_content": null,
       "align_items": null,
       "align_self": null,
       "border": null,
       "bottom": null,
       "display": null,
       "flex": null,
       "flex_flow": null,
       "grid_area": null,
       "grid_auto_columns": null,
       "grid_auto_flow": null,
       "grid_auto_rows": null,
       "grid_column": null,
       "grid_gap": null,
       "grid_row": null,
       "grid_template_areas": null,
       "grid_template_columns": null,
       "grid_template_rows": null,
       "height": null,
       "justify_content": null,
       "justify_items": null,
       "left": null,
       "margin": null,
       "max_height": null,
       "max_width": null,
       "min_height": null,
       "min_width": null,
       "object_fit": null,
       "object_position": null,
       "order": null,
       "overflow": null,
       "overflow_x": null,
       "overflow_y": null,
       "padding": null,
       "right": null,
       "top": null,
       "visibility": null,
       "width": null
      }
     },
     "efd79ba570cf472cb52893223acc6a9c": {
      "model_module": "@jupyter-widgets/controls",
      "model_module_version": "1.5.0",
      "model_name": "HTMLModel",
      "state": {
       "_dom_classes": [],
       "_model_module": "@jupyter-widgets/controls",
       "_model_module_version": "1.5.0",
       "_model_name": "HTMLModel",
       "_view_count": null,
       "_view_module": "@jupyter-widgets/controls",
       "_view_module_version": "1.5.0",
       "_view_name": "HTMLView",
       "description": "",
       "description_tooltip": null,
       "layout": "IPY_MODEL_a48794df11d644deaab59987884b80fd",
       "placeholder": "​",
       "style": "IPY_MODEL_966d1ad0a5a34a9c8ac4ac6721d6cf46",
       "value": "Downloading: 100%"
      }
     },
     "f619e1da1a284098ae1832d06a4a8ce5": {
      "model_module": "@jupyter-widgets/controls",
      "model_module_version": "1.5.0",
      "model_name": "HTMLModel",
      "state": {
       "_dom_classes": [],
       "_model_module": "@jupyter-widgets/controls",
       "_model_module_version": "1.5.0",
       "_model_name": "HTMLModel",
       "_view_count": null,
       "_view_module": "@jupyter-widgets/controls",
       "_view_module_version": "1.5.0",
       "_view_name": "HTMLView",
       "description": "",
       "description_tooltip": null,
       "layout": "IPY_MODEL_eedf3085055e419f9992058d92024abd",
       "placeholder": "​",
       "style": "IPY_MODEL_a70607d57282423eb0c09b52f5689182",
       "value": "Downloading: 100%"
      }
     }
    },
    "version_major": 2,
    "version_minor": 0
   }
  }
 },
 "nbformat": 4,
 "nbformat_minor": 5
}
