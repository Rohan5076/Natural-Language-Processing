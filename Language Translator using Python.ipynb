{
 "cells": [
  {
   "cell_type": "markdown",
   "id": "10d76456",
   "metadata": {},
   "source": [
    "Google Translator API helps us to create our translator using Python. The new API from the Google developers known as google_trans_new is used for the same task.  To make a translator more interactive I will also create an interactive user interface by using the streamlit library in Python. Now let’s see how to create an interactive language translator using Python:"
   ]
  },
  {
   "cell_type": "code",
   "execution_count": 4,
   "id": "5c049879",
   "metadata": {},
   "outputs": [
    {
     "name": "stderr",
     "output_type": "stream",
     "text": [
      "2022-05-05 14:39:34.997 INFO    numexpr.utils: NumExpr defaulting to 4 threads.\n",
      "2022-05-05 14:39:49.028 \n",
      "  \u001b[33m\u001b[1mWarning:\u001b[0m to view this Streamlit app on a browser, run it with the following\n",
      "  command:\n",
      "\n",
      "    streamlit run C:\\Users\\SHREE\\anaconda3\\lib\\site-packages\\ipykernel_launcher.py [ARGUMENTS]\n"
     ]
    }
   ],
   "source": [
    "from google_trans_new import google_translator\n",
    "import streamlit as st\n",
    "translator = google_translator()\n",
    "st.title(\"Language Translator\")\n",
    "text = st.text_input(\"Enter a text\")\n",
    "translate = translator.translate(text, lang_tgt='fr')\n",
    "st.write(translate)"
   ]
  },
  {
   "cell_type": "markdown",
   "id": "280614f4",
   "metadata": {},
   "source": [
    "Since we are using the streamlit library here, we need to run this code using the streamlit run file name.py command in your terminal. After running the file a link will open in your default browser with an interactive user interface. In the text field, you can enter any text in any language, once you hit enter it will translate it to French as I have mentioned ‘fr’ as our target language in the above code."
   ]
  }
 ],
 "metadata": {
  "kernelspec": {
   "display_name": "Python 3 (ipykernel)",
   "language": "python",
   "name": "python3"
  },
  "language_info": {
   "codemirror_mode": {
    "name": "ipython",
    "version": 3
   },
   "file_extension": ".py",
   "mimetype": "text/x-python",
   "name": "python",
   "nbconvert_exporter": "python",
   "pygments_lexer": "ipython3",
   "version": "3.8.8"
  }
 },
 "nbformat": 4,
 "nbformat_minor": 5
}
