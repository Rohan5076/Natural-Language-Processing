{
 "cells": [
  {
   "cell_type": "markdown",
   "id": "0cf0afc5",
   "metadata": {},
   "source": [
    "The task of language detection comes into use when you are working on a very large dataset that contains data in different languages. Suppose you want to create an even driven program where the final output depends on the language which the user provides as an input. So it is important to first detect the language of the text provided by the user before taking any action."
   ]
  },
  {
   "cell_type": "markdown",
   "id": "3c3dd2f2",
   "metadata": {},
   "source": [
    "As an open-source programming language, Python provides libraries and packages for almost every possible task, as the Python programming community continues to contribute to Python with new libraries, packages, and modules. You can build your machine learning model for the language detection task, but for this task, I will be using the langdetect package in Python which can detect over 55 different languages within a few lines of code.\n",
    "\n",
    "Let’s see how to use this package for the task of language detection with Python:"
   ]
  },
  {
   "cell_type": "code",
   "execution_count": 3,
   "id": "82825b45",
   "metadata": {},
   "outputs": [
    {
     "name": "stdout",
     "output_type": "stream",
     "text": [
      "Enter any text in any language: Salut, je suis Aman Kharwal, j'espère que vous allez très bien.\n",
      "fr\n"
     ]
    }
   ],
   "source": [
    "from langdetect import detect\n",
    "text = input(\"Enter any text in any language: \")\n",
    "print(detect(text))"
   ]
  },
  {
   "cell_type": "markdown",
   "id": "7c177b9e",
   "metadata": {},
   "source": [
    "In the above code, I started by importing the detect method from the langdetect package. Then, I am simply asking for user input where the user can enter text in any language. Then I am simply printing the language of the text entered by the user by detecting it using the detect method."
   ]
  },
  {
   "cell_type": "markdown",
   "id": "1d5b98a4",
   "metadata": {},
   "source": [
    "## Summary"
   ]
  },
  {
   "cell_type": "markdown",
   "id": "b607e64f",
   "metadata": {},
   "source": [
    "The output received is an abbreviated form of the language (fr means French). So the user can enter text in whatever language the user likes, your program will detect that language but it will give the short form of that language as output. "
   ]
  }
 ],
 "metadata": {
  "kernelspec": {
   "display_name": "Python 3 (ipykernel)",
   "language": "python",
   "name": "python3"
  },
  "language_info": {
   "codemirror_mode": {
    "name": "ipython",
    "version": 3
   },
   "file_extension": ".py",
   "mimetype": "text/x-python",
   "name": "python",
   "nbconvert_exporter": "python",
   "pygments_lexer": "ipython3",
   "version": "3.8.8"
  }
 },
 "nbformat": 4,
 "nbformat_minor": 5
}
