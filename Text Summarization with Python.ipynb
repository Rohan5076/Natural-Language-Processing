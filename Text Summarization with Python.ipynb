{
 "cells": [
  {
   "cell_type": "markdown",
   "id": "9d7182f2",
   "metadata": {},
   "source": [
    "Text Summarization is the process of creating a summary of a certain document which contains the most important information of the original, the purpose of which is to obtain a summary of the main points of the document.\n",
    "\n",
    "There is a huge amount of data appearing digitally, so it is necessary to develop a unique procedure to immediately summarize long texts while keeping the main idea. Text summarization also makes it possible to shorten the reading time, speed up information searches and obtain as much information as possible on a subject.\n",
    "\n",
    "The main goal of using machine learning for text summarization is to reduce the reference text to a smaller version while keeping its knowledge alongside its meaning. Multiple text summary descriptions are provided, for example, explained the report as text generated from one or more documents that communicate relevant knowledge in the first text, and that is no longer than half of the main text and generally much more limited than this."
   ]
  },
  {
   "cell_type": "markdown",
   "id": "90620c56",
   "metadata": {},
   "source": [
    "Lets start Machine Learning project on Text Summarization with Python."
   ]
  },
  {
   "cell_type": "markdown",
   "id": "bf909ecf",
   "metadata": {},
   "source": [
    "## Text Summarization with Python"
   ]
  },
  {
   "cell_type": "markdown",
   "id": "baa6c8c1",
   "metadata": {},
   "source": [
    "Now, I will take you through the task of Text Summarization with Python. I will start by importing the necessary Python libraries:"
   ]
  },
  {
   "cell_type": "code",
   "execution_count": 1,
   "id": "ca4f0b14",
   "metadata": {},
   "outputs": [],
   "source": [
    "import nltk\n",
    "import string\n",
    "from heapq import nlargest"
   ]
  },
  {
   "cell_type": "markdown",
   "id": "4a0dc08f",
   "metadata": {},
   "source": [
    "We don’t need to use a lot of machine learning here. We can easily summarize text without training a model. But still, we need to use some natural language processing, for that, I will be using the NLTK library in Python. \n",
    "\n",
    "Now let’s perform some steps for removing punctuations from the text, then we need to do some steps of text processing, and at the end, we will simply tokenize the text and then you can see the results for text summarization with Python:"
   ]
  },
  {
   "cell_type": "code",
   "execution_count": 7,
   "id": "ffe04f9c",
   "metadata": {},
   "outputs": [
    {
     "name": "stdout",
     "output_type": "stream",
     "text": [
      "\n"
     ]
    }
   ],
   "source": [
    "text = \"Enter Text to Summarize\"\n",
    "if text.count(\". \") > 20:\n",
    "    length = int(round(text.count(\". \")/10, 0))\n",
    "else:\n",
    "    length = 1\n",
    "\n",
    "nopuch =[char for char in text if char not in string.punctuation]\n",
    "nopuch = \"\".join(nopuch)\n",
    "\n",
    "processed_text = [word for word in nopuch.split() if word.lower() not in nltk.corpus.stopwords.words('english')]\n",
    "\n",
    "word_freq = {}\n",
    "for word in processed_text:\n",
    "    if word not in word_freq:\n",
    "        word_freq[word] = 1\n",
    "    else:\n",
    "        word_freq[word] = word_freq[word] + 1\n",
    "\n",
    "max_freq = max(word_freq.values())\n",
    "for word in word_freq.keys():\n",
    "    word_freq[word] = (word_freq[word]/max_freq)\n",
    "\n",
    "sent_list = nltk.sent_tokenize(text)\n",
    "sent_score = {}\n",
    "for sent in sent_list:\n",
    "    for word in nltk.word_tokenize(sent.lower()):\n",
    "        if word in word_freq.keys():\n",
    "            if sent not in sent_score.keys():\n",
    "                sent_score[sent] = word_freq[word]\n",
    "            else:\n",
    "                sent_score[sent] = sent_score[sent] + word_freq[word]\n",
    "\n",
    "summary_sents = nlargest(length, sent_score, key=sent_score.get)\n",
    "summary = \" \".join(summary_sents)\n",
    "print(summary)"
   ]
  },
  {
   "cell_type": "markdown",
   "id": "8623bea6",
   "metadata": {},
   "source": [
    "The code above will give you a summary of your desired text that you need to store in the variable ‘text’. I hope you liked this article on Text Summarization with Python."
   ]
  }
 ],
 "metadata": {
  "kernelspec": {
   "display_name": "Python 3 (ipykernel)",
   "language": "python",
   "name": "python3"
  },
  "language_info": {
   "codemirror_mode": {
    "name": "ipython",
    "version": 3
   },
   "file_extension": ".py",
   "mimetype": "text/x-python",
   "name": "python",
   "nbconvert_exporter": "python",
   "pygments_lexer": "ipython3",
   "version": "3.8.8"
  }
 },
 "nbformat": 4,
 "nbformat_minor": 5
}
