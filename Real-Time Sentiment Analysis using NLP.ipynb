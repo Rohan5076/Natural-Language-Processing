{
 "cells": [
  {
   "cell_type": "markdown",
   "id": "6b053d99",
   "metadata": {},
   "source": [
    "Sentiment Analysis is an application of natural language processing that is used to understand people’s opinions. Today, many companies use real-time sentiment analysis by asking users about their service. In this project, I’ll walk you through real-time sentiment analysis using Python."
   ]
  },
  {
   "cell_type": "markdown",
   "id": "222df0d6",
   "metadata": {},
   "source": [
    "## Real-Time Sentiment Analysis"
   ]
  },
  {
   "cell_type": "markdown",
   "id": "45dbabfe",
   "metadata": {},
   "source": [
    "The main purpose of sentiment analysis is to analyze the opinions of users of a particular product or service, which helps customers understand the quality of the product. For example, every time Apple releases a new iPhone, we see a lot of people giving their opinion on it, some like it and some criticize it, in the end, all people’s opinions help us decide whether we should buy the new iPhone or not.\n",
    "\n",
    "Opinions are nothing more than people’s feelings about a particular product, which helps a business improve its product and helps customers decide whether or not to buy the product. Now, what if you want to analyze people’s feelings in real-time, i.e. ask a user about your product and understand your product in real-time. In the section below, I’ll walk you through a simple way of real-time sentiment analysis using Python."
   ]
  },
  {
   "cell_type": "markdown",
   "id": "a28173ee",
   "metadata": {},
   "source": [
    "To analyze feelings in real-time, we need to request input from the user and then analyze user feelings given by him/her as input. So for this real-time sentiment analysis task using Python, I will be using the NLTK library in Python which is a very useful tool for all the tasks of natural language processing. So let’s import the NLTK library and start with sentiment analysis:"
   ]
  },
  {
   "cell_type": "code",
   "execution_count": 1,
   "id": "23303666",
   "metadata": {},
   "outputs": [
    {
     "name": "stderr",
     "output_type": "stream",
     "text": [
      "[nltk_data] Downloading package vader_lexicon to\n",
      "[nltk_data]     C:\\Users\\SHREE\\AppData\\Roaming\\nltk_data...\n",
      "[nltk_data]   Package vader_lexicon is already up-to-date!\n"
     ]
    },
    {
     "data": {
      "text/plain": [
       "True"
      ]
     },
     "execution_count": 1,
     "metadata": {},
     "output_type": "execute_result"
    }
   ],
   "source": [
    "from nltk.sentiment.vader import SentimentIntensityAnalyzer\n",
    "import nltk\n",
    "nltk.download('vader_lexicon')"
   ]
  },
  {
   "cell_type": "markdown",
   "id": "2cbedde7",
   "metadata": {},
   "source": [
    "So, I will be using the SentimentIntensityAnalyzer() class provided by the NLTK library in Python. Now let’s take a user input and have a look at the sentiment score:"
   ]
  },
  {
   "cell_type": "code",
   "execution_count": 4,
   "id": "89208e53",
   "metadata": {},
   "outputs": [
    {
     "name": "stdout",
     "output_type": "stream",
     "text": [
      "Please Rate Our Services >>: great\n",
      "{'neg': 0.0, 'neu': 0.0, 'pos': 1.0, 'compound': 0.6249}\n"
     ]
    }
   ],
   "source": [
    "user_input = input(\"Please Rate Our Services >>: \")\n",
    "sid = SentimentIntensityAnalyzer()\n",
    "score = sid.polarity_scores(user_input)\n",
    "print(score)"
   ]
  },
  {
   "cell_type": "markdown",
   "id": "0914f7a3",
   "metadata": {},
   "source": [
    "## Final Step:"
   ]
  },
  {
   "cell_type": "markdown",
   "id": "4134454e",
   "metadata": {},
   "source": [
    "So the sentiments score looks like a dictionary with keys as ‘neg’, ‘neu’, ‘pos’, ‘compound’. The above output says that the sentiment of the user is 100% positive. So we can use an if-else statement by passing a condition that if the value of the key(neg) is not 0.0 then the sentiment is negative and otherwise it’s positive. So here is the complete Python code for real-time sentiment analysis:"
   ]
  },
  {
   "cell_type": "code",
   "execution_count": 7,
   "id": "50a19046",
   "metadata": {},
   "outputs": [
    {
     "name": "stdout",
     "output_type": "stream",
     "text": [
      "Please Rate Our Services >>: not bad\n",
      "Positive\n"
     ]
    }
   ],
   "source": [
    "user_input = input(\"Please Rate Our Services >>: \")\n",
    "sid = SentimentIntensityAnalyzer()\n",
    "score = sid.polarity_scores(user_input)\n",
    "if score[\"neg\"] != 0:\n",
    "      print(\"Negative\")\n",
    "else:\n",
    "      print(\"Positive\")"
   ]
  },
  {
   "cell_type": "markdown",
   "id": "908019fe",
   "metadata": {},
   "source": [
    "So now we can see positive or negative as an output instead of the sentiment scores."
   ]
  }
 ],
 "metadata": {
  "kernelspec": {
   "display_name": "Python 3 (ipykernel)",
   "language": "python",
   "name": "python3"
  },
  "language_info": {
   "codemirror_mode": {
    "name": "ipython",
    "version": 3
   },
   "file_extension": ".py",
   "mimetype": "text/x-python",
   "name": "python",
   "nbconvert_exporter": "python",
   "pygments_lexer": "ipython3",
   "version": "3.8.8"
  }
 },
 "nbformat": 4,
 "nbformat_minor": 5
}
