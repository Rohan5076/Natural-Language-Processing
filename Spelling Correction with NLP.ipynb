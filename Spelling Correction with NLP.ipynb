{
 "cells": [
  {
   "cell_type": "markdown",
   "id": "0eaf6c7f",
   "metadata": {},
   "source": [
    "In machine learning, spelling correction and spell checking is a well-known and well-studied problem in natural language processing. In this task, we will learn about a very basic machine learning project on spelling correction with Python programming language."
   ]
  },
  {
   "cell_type": "markdown",
   "id": "fde8d994",
   "metadata": {},
   "source": [
    "### Introduction to Spelling Correction with Python\n",
    "Correcting spelling mistakes is an integral part of writing in the modern world, whether it is part of texting a phone, sending an email, writing large documents or searching for information on the web.\n",
    "\n",
    "Modern spelling correctors aren’t perfect (indeed, automatic error correction is a popular source of fun on the web), but they’re ubiquitous in just about all software that relies on keyboard input.\n",
    "\n",
    "Spelling correction is often viewed from two angles. Non-word spell check is the detection and correction of spelling mistakes that result in non-words. In contrast, real word spell checking involves detecting and correcting misspellings even if they accidentally result in a real English word (real word errors).\n",
    "\n",
    "This can come from typographical errors of real-word errors (insertion, deletion, transposition) that accidentally produce a real word, or from cognitive errors where the writer substituted the wrong one."
   ]
  },
  {
   "cell_type": "markdown",
   "id": "07746820",
   "metadata": {},
   "source": [
    "### Spelling Correction with Python\n",
    "Now in this section, I will take you through how to create a program for the task of Spelling correction with Python programming language:"
   ]
  },
  {
   "cell_type": "code",
   "execution_count": 1,
   "id": "2f4f5088",
   "metadata": {},
   "outputs": [
    {
     "name": "stdout",
     "output_type": "stream",
     "text": [
      "Wrong words : ['Data Scence', 'Mahine Learnin']\n",
      "Corrected Words are :\n",
      "Data Science Machine Learning "
     ]
    }
   ],
   "source": [
    "from textblob import TextBlob\n",
    "words = [\"Data Scence\", \"Mahine Learnin\"]\n",
    "corrected_words = []\n",
    "for i in words:\n",
    "    corrected_words.append(TextBlob(i))\n",
    "print(\"Wrong words :\", words)\n",
    "print(\"Corrected Words are :\")\n",
    "for i in corrected_words:\n",
    "    print(i.correct(), end=\" \")"
   ]
  },
  {
   "cell_type": "markdown",
   "id": "dcdfd94d",
   "metadata": {},
   "source": [
    "### Summary\n",
    "With the use of textblob library in Python, we can easily create Machine Learning Models for the task of Spelling Corrections. Detecting actual word spelling errors is a much more difficult task, as any word in the input text can be an error. \n",
    "\n",
    "However, it is possible to use the noisy channel to find candidates for every word the user typed and rank the correction that was probably the user’s original intention."
   ]
  }
 ],
 "metadata": {
  "kernelspec": {
   "display_name": "Python 3 (ipykernel)",
   "language": "python",
   "name": "python3"
  },
  "language_info": {
   "codemirror_mode": {
    "name": "ipython",
    "version": 3
   },
   "file_extension": ".py",
   "mimetype": "text/x-python",
   "name": "python",
   "nbconvert_exporter": "python",
   "pygments_lexer": "ipython3",
   "version": "3.8.8"
  }
 },
 "nbformat": 4,
 "nbformat_minor": 5
}
