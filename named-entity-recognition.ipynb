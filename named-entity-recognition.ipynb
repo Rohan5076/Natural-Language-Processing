{
 "cells": [
  {
   "cell_type": "code",
   "execution_count": 1,
   "id": "87d5eb08",
   "metadata": {
    "_cell_guid": "b1076dfc-b9ad-4769-8c92-a6c4dae69d19",
    "_uuid": "8f2839f25d086af736a60e9eeb907d3b93b6e0e5",
    "execution": {
     "iopub.execute_input": "2022-07-12T14:24:11.408227Z",
     "iopub.status.busy": "2022-07-12T14:24:11.407791Z",
     "iopub.status.idle": "2022-07-12T14:24:11.425396Z",
     "shell.execute_reply": "2022-07-12T14:24:11.424521Z"
    },
    "papermill": {
     "duration": 0.028695,
     "end_time": "2022-07-12T14:24:11.428357",
     "exception": false,
     "start_time": "2022-07-12T14:24:11.399662",
     "status": "completed"
    },
    "tags": []
   },
   "outputs": [
    {
     "name": "stdout",
     "output_type": "stream",
     "text": [
      "/kaggle/input/news-data/abcnews-date-text.csv\n"
     ]
    }
   ],
   "source": [
    "# This Python 3 environment comes with many helpful analytics libraries installed\n",
    "# It is defined by the kaggle/python Docker image: https://github.com/kaggle/docker-python\n",
    "# For example, here's several helpful packages to load\n",
    "\n",
    "import numpy as np # linear algebra\n",
    "import pandas as pd # data processing, CSV file I/O (e.g. pd.read_csv)\n",
    "\n",
    "# Input data files are available in the read-only \"../input/\" directory\n",
    "# For example, running this (by clicking run or pressing Shift+Enter) will list all files under the input directory\n",
    "\n",
    "import os\n",
    "for dirname, _, filenames in os.walk('/kaggle/input'):\n",
    "    for filename in filenames:\n",
    "        print(os.path.join(dirname, filename))\n",
    "\n",
    "# You can write up to 20GB to the current directory (/kaggle/working/) that gets preserved as output when you create a version using \"Save & Run All\" \n",
    "# You can also write temporary files to /kaggle/temp/, but they won't be saved outside of the current session"
   ]
  },
  {
   "cell_type": "markdown",
   "id": "b6d50b94",
   "metadata": {
    "papermill": {
     "duration": 0.005385,
     "end_time": "2022-07-12T14:24:11.440027",
     "exception": false,
     "start_time": "2022-07-12T14:24:11.434642",
     "status": "completed"
    },
    "tags": []
   },
   "source": [
    "### What is the NLP?\n",
    "The objective of NLP (Natural Language Processing) is to make computers understand the text and spoken words in much the same way human beings can.\n",
    "\n",
    "NLP applies statistical, machine learning, and deep learning models to large text data to comprehend the speaker’s or writer’s intent and sentiment.\n",
    "\n",
    "Usually, the input data to the NLP model is about the words in texts. Anyway, we can add more features to make the model more accurate."
   ]
  },
  {
   "cell_type": "markdown",
   "id": "a7ea9825",
   "metadata": {
    "papermill": {
     "duration": 0.00552,
     "end_time": "2022-07-12T14:24:11.450844",
     "exception": false,
     "start_time": "2022-07-12T14:24:11.445324",
     "status": "completed"
    },
    "tags": []
   },
   "source": [
    "### What is Named Entity Recognition (NER)?\n",
    "Named-entity recognition (NER) (also known as (named) entity identification, entity chunking, and entity extraction) is a subtask of information extraction that seeks to locate and classify named entities mentioned in unstructured text into pre-defined categories such as person names, organizations, locations, medical codes, time expressions, quantities, monetary values, percentages, etc.\n",
    "(from https://en.wikipedia.org/wiki/Named-entity_recognition)\n",
    "\n",
    "We can use NEM to create new columns for the NLP model and sometimes visualization of NEM alone can even classify text type."
   ]
  },
  {
   "cell_type": "markdown",
   "id": "7592ad46",
   "metadata": {
    "papermill": {
     "duration": 0.005093,
     "end_time": "2022-07-12T14:24:11.461275",
     "exception": false,
     "start_time": "2022-07-12T14:24:11.456182",
     "status": "completed"
    },
    "tags": []
   },
   "source": [
    "### Get to know spaCy\n",
    "spaCy is a free open-source Python library for Natural Language Processing in Python. It features NER, POS tagging, dependency parsing, word vectors, and more.\n",
    "\n",
    "In this Project, I will show you step by step how to perform NEM with the spaCy library."
   ]
  },
  {
   "cell_type": "markdown",
   "id": "10ddc5b3",
   "metadata": {
    "papermill": {
     "duration": 0.005393,
     "end_time": "2022-07-12T14:24:11.472003",
     "exception": false,
     "start_time": "2022-07-12T14:24:11.466610",
     "status": "completed"
    },
    "tags": []
   },
   "source": [
    "### Step summary\n",
    "- Install and import libraries\n",
    "- Load an NER model\n",
    "- Create a tag list column\n",
    "- Create new features"
   ]
  },
  {
   "cell_type": "markdown",
   "id": "9d5d0789",
   "metadata": {
    "papermill": {
     "duration": 0.005582,
     "end_time": "2022-07-12T14:24:11.483150",
     "exception": false,
     "start_time": "2022-07-12T14:24:11.477568",
     "status": "completed"
    },
    "tags": []
   },
   "source": [
    "### Import Libraries"
   ]
  },
  {
   "cell_type": "code",
   "execution_count": 2,
   "id": "645ba2bf",
   "metadata": {
    "execution": {
     "iopub.execute_input": "2022-07-12T14:24:11.495353Z",
     "iopub.status.busy": "2022-07-12T14:24:11.494601Z",
     "iopub.status.idle": "2022-07-12T14:24:14.400317Z",
     "shell.execute_reply": "2022-07-12T14:24:14.399347Z"
    },
    "papermill": {
     "duration": 2.914052,
     "end_time": "2022-07-12T14:24:14.402646",
     "exception": false,
     "start_time": "2022-07-12T14:24:11.488594",
     "status": "completed"
    },
    "tags": []
   },
   "outputs": [],
   "source": [
    "import spacy\n",
    "import pandas as pd"
   ]
  },
  {
   "cell_type": "markdown",
   "id": "7cfee945",
   "metadata": {
    "papermill": {
     "duration": 0.00517,
     "end_time": "2022-07-12T14:24:14.413939",
     "exception": false,
     "start_time": "2022-07-12T14:24:14.408769",
     "status": "completed"
    },
    "tags": []
   },
   "source": [
    "### Load a dataset"
   ]
  },
  {
   "cell_type": "code",
   "execution_count": 3,
   "id": "1b2ef481",
   "metadata": {
    "execution": {
     "iopub.execute_input": "2022-07-12T14:24:14.426204Z",
     "iopub.status.busy": "2022-07-12T14:24:14.425503Z",
     "iopub.status.idle": "2022-07-12T14:24:15.926574Z",
     "shell.execute_reply": "2022-07-12T14:24:15.925368Z"
    },
    "papermill": {
     "duration": 1.509808,
     "end_time": "2022-07-12T14:24:15.929263",
     "exception": false,
     "start_time": "2022-07-12T14:24:14.419455",
     "status": "completed"
    },
    "tags": []
   },
   "outputs": [],
   "source": [
    "df =pd.read_csv(\"../input/news-data/abcnews-date-text.csv\")\n",
    "df = df[:10] # Use only 10 samples to reduce computation time"
   ]
  },
  {
   "cell_type": "markdown",
   "id": "e8085016",
   "metadata": {
    "papermill": {
     "duration": 0.005306,
     "end_time": "2022-07-12T14:24:15.940804",
     "exception": false,
     "start_time": "2022-07-12T14:24:15.935498",
     "status": "completed"
    },
    "tags": []
   },
   "source": [
    "###  Load an NER model\n",
    "Use spacy.load to load the pre-trained NER model. (Make sure that you already download this model)"
   ]
  },
  {
   "cell_type": "code",
   "execution_count": 4,
   "id": "74ad61e9",
   "metadata": {
    "execution": {
     "iopub.execute_input": "2022-07-12T14:24:15.952805Z",
     "iopub.status.busy": "2022-07-12T14:24:15.952491Z",
     "iopub.status.idle": "2022-07-12T14:24:17.094099Z",
     "shell.execute_reply": "2022-07-12T14:24:17.093079Z"
    },
    "papermill": {
     "duration": 1.151022,
     "end_time": "2022-07-12T14:24:17.097130",
     "exception": false,
     "start_time": "2022-07-12T14:24:15.946108",
     "status": "completed"
    },
    "tags": []
   },
   "outputs": [],
   "source": [
    "ner = spacy.load(\"en_core_web_sm\")"
   ]
  },
  {
   "cell_type": "markdown",
   "id": "16c02a25",
   "metadata": {
    "papermill": {
     "duration": 0.005931,
     "end_time": "2022-07-12T14:24:17.108683",
     "exception": false,
     "start_time": "2022-07-12T14:24:17.102752",
     "status": "completed"
    },
    "tags": []
   },
   "source": [
    "#### Fit the model with a text"
   ]
  },
  {
   "cell_type": "code",
   "execution_count": 5,
   "id": "8a050c61",
   "metadata": {
    "execution": {
     "iopub.execute_input": "2022-07-12T14:24:17.120817Z",
     "iopub.status.busy": "2022-07-12T14:24:17.120530Z",
     "iopub.status.idle": "2022-07-12T14:24:17.155629Z",
     "shell.execute_reply": "2022-07-12T14:24:17.154776Z"
    },
    "papermill": {
     "duration": 0.043808,
     "end_time": "2022-07-12T14:24:17.157764",
     "exception": false,
     "start_time": "2022-07-12T14:24:17.113956",
     "status": "completed"
    },
    "tags": []
   },
   "outputs": [],
   "source": [
    "doc = ner(df['headline_text'][9])"
   ]
  },
  {
   "cell_type": "markdown",
   "id": "f19853df",
   "metadata": {
    "papermill": {
     "duration": 0.005232,
     "end_time": "2022-07-12T14:24:17.168313",
     "exception": false,
     "start_time": "2022-07-12T14:24:17.163081",
     "status": "completed"
    },
    "tags": []
   },
   "source": [
    "doc is a spacy token. You can call its attributes.\n",
    "\n",
    "- Display\n",
    "Loop over words in doc.\n",
    "\n",
    ".text will return word\n",
    "\n",
    ".pos_ will return the part of speech of the word\n",
    "\n",
    ".ent_type_ will return the named-entity of the word\n",
    "\n",
    "From the example “australia is locked into war timetable opp”, you will see the model can detect australia as GPE (Geopolitical Entity)."
   ]
  },
  {
   "cell_type": "code",
   "execution_count": 6,
   "id": "b08c2255",
   "metadata": {
    "execution": {
     "iopub.execute_input": "2022-07-12T14:24:17.180148Z",
     "iopub.status.busy": "2022-07-12T14:24:17.179842Z",
     "iopub.status.idle": "2022-07-12T14:24:17.187761Z",
     "shell.execute_reply": "2022-07-12T14:24:17.186582Z"
    },
    "papermill": {
     "duration": 0.016708,
     "end_time": "2022-07-12T14:24:17.190266",
     "exception": false,
     "start_time": "2022-07-12T14:24:17.173558",
     "status": "completed"
    },
    "tags": []
   },
   "outputs": [
    {
     "name": "stdout",
     "output_type": "stream",
     "text": [
      "Text is: australia is locked into war timetable opp\n",
      "\n",
      "australia\tPROPN\tGPE\n",
      "is\tAUX\t\n",
      "locked\tVERB\t\n",
      "into\tADP\t\n",
      "war\tNOUN\t\n",
      "timetable\tNOUN\t\n",
      "opp\tNOUN\t\n"
     ]
    }
   ],
   "source": [
    "print(\"Text is: \"+doc.text+\"\\n\")\n",
    "for token in doc:\n",
    "    print(token.text+\"\\t\"+token.pos_+\"\\t\"+token.ent_type_)"
   ]
  },
  {
   "cell_type": "markdown",
   "id": "6c0e637b",
   "metadata": {
    "papermill": {
     "duration": 0.005736,
     "end_time": "2022-07-12T14:24:17.201354",
     "exception": false,
     "start_time": "2022-07-12T14:24:17.195618",
     "status": "completed"
    },
    "tags": []
   },
   "source": [
    "#### spaCy has a useful display tool, displacy, that can beautifully visualize the named entity."
   ]
  },
  {
   "cell_type": "code",
   "execution_count": 7,
   "id": "1d07d978",
   "metadata": {
    "execution": {
     "iopub.execute_input": "2022-07-12T14:24:17.213630Z",
     "iopub.status.busy": "2022-07-12T14:24:17.213362Z",
     "iopub.status.idle": "2022-07-12T14:24:17.223292Z",
     "shell.execute_reply": "2022-07-12T14:24:17.222421Z"
    },
    "papermill": {
     "duration": 0.018154,
     "end_time": "2022-07-12T14:24:17.225299",
     "exception": false,
     "start_time": "2022-07-12T14:24:17.207145",
     "status": "completed"
    },
    "tags": []
   },
   "outputs": [
    {
     "data": {
      "text/html": [
       "<span class=\"tex2jax_ignore\"><div class=\"entities\" style=\"line-height: 2.5; direction: ltr\">\n",
       "<mark class=\"entity\" style=\"background: #feca74; padding: 0.45em 0.6em; margin: 0 0.25em; line-height: 1; border-radius: 0.35em;\">\n",
       "    australia\n",
       "    <span style=\"font-size: 0.8em; font-weight: bold; line-height: 1; border-radius: 0.35em; text-transform: uppercase; vertical-align: middle; margin-left: 0.5rem\">GPE</span>\n",
       "</mark>\n",
       " is locked into war timetable opp</div></span>"
      ],
      "text/plain": [
       "<IPython.core.display.HTML object>"
      ]
     },
     "metadata": {},
     "output_type": "display_data"
    }
   ],
   "source": [
    "spacy.displacy.render(doc, style=\"ent\")"
   ]
  },
  {
   "cell_type": "markdown",
   "id": "ceccc4ee",
   "metadata": {
    "papermill": {
     "duration": 0.00529,
     "end_time": "2022-07-12T14:24:17.236203",
     "exception": false,
     "start_time": "2022-07-12T14:24:17.230913",
     "status": "completed"
    },
    "tags": []
   },
   "source": [
    "#### The list of all NER can be gotten by .pipe_labels and the explanation of each NER is known by .explain."
   ]
  },
  {
   "cell_type": "code",
   "execution_count": 8,
   "id": "3a022905",
   "metadata": {
    "execution": {
     "iopub.execute_input": "2022-07-12T14:24:17.248714Z",
     "iopub.status.busy": "2022-07-12T14:24:17.248442Z",
     "iopub.status.idle": "2022-07-12T14:24:17.254775Z",
     "shell.execute_reply": "2022-07-12T14:24:17.253840Z"
    },
    "papermill": {
     "duration": 0.016156,
     "end_time": "2022-07-12T14:24:17.258021",
     "exception": false,
     "start_time": "2022-07-12T14:24:17.241865",
     "status": "completed"
    },
    "tags": []
   },
   "outputs": [
    {
     "name": "stdout",
     "output_type": "stream",
     "text": [
      "Number of NER: 18\n",
      "CARDINAL : Numerals that do not fall under another type\n",
      "DATE : Absolute or relative dates or periods\n",
      "EVENT : Named hurricanes, battles, wars, sports events, etc.\n",
      "FAC : Buildings, airports, highways, bridges, etc.\n",
      "GPE : Countries, cities, states\n",
      "LANGUAGE : Any named language\n",
      "LAW : Named documents made into laws.\n",
      "LOC : Non-GPE locations, mountain ranges, bodies of water\n",
      "MONEY : Monetary values, including unit\n",
      "NORP : Nationalities or religious or political groups\n",
      "ORDINAL : \"first\", \"second\", etc.\n",
      "ORG : Companies, agencies, institutions, etc.\n",
      "PERCENT : Percentage, including \"%\"\n",
      "PERSON : People, including fictional\n",
      "PRODUCT : Objects, vehicles, foods, etc. (not services)\n",
      "QUANTITY : Measurements, as of weight or distance\n",
      "TIME : Times smaller than a day\n",
      "WORK_OF_ART : Titles of books, songs, etc.\n"
     ]
    }
   ],
   "source": [
    "ner_list = ner.pipe_labels['ner']\n",
    "print(\"Number of NER: \"+str(len(ner_list)))\n",
    "for i in range(len(ner_list)):\n",
    "    print(ner_list[i]+\" : \"+spacy.explain(ner_list[i]))"
   ]
  },
  {
   "cell_type": "markdown",
   "id": "55860cbb",
   "metadata": {
    "papermill": {
     "duration": 0.005497,
     "end_time": "2022-07-12T14:24:17.270237",
     "exception": false,
     "start_time": "2022-07-12T14:24:17.264740",
     "status": "completed"
    },
    "tags": []
   },
   "source": [
    "- There are 18 NERs as shown above."
   ]
  },
  {
   "cell_type": "markdown",
   "id": "ba203ff6",
   "metadata": {
    "papermill": {
     "duration": 0.005605,
     "end_time": "2022-07-12T14:24:17.281590",
     "exception": false,
     "start_time": "2022-07-12T14:24:17.275985",
     "status": "completed"
    },
    "tags": []
   },
   "source": [
    "### Create a tag list column\n",
    "First, create a function add_tag_column that when entered text will return a dictionary of the number of tag occurance."
   ]
  },
  {
   "cell_type": "code",
   "execution_count": 9,
   "id": "346a2902",
   "metadata": {
    "execution": {
     "iopub.execute_input": "2022-07-12T14:24:17.294213Z",
     "iopub.status.busy": "2022-07-12T14:24:17.293493Z",
     "iopub.status.idle": "2022-07-12T14:24:17.299471Z",
     "shell.execute_reply": "2022-07-12T14:24:17.298423Z"
    },
    "papermill": {
     "duration": 0.014387,
     "end_time": "2022-07-12T14:24:17.301520",
     "exception": false,
     "start_time": "2022-07-12T14:24:17.287133",
     "status": "completed"
    },
    "tags": []
   },
   "outputs": [],
   "source": [
    "def add_tag_column(text):\n",
    "    doc = ner(text)\n",
    "    tag_dict = dict.fromkeys(ner_list,0) # empty column\n",
    "    for token in doc:\n",
    "        if token.ent_type_ != \"\":    \n",
    "            tag_dict[token.ent_type_] +=1\n",
    "    return tag_dict"
   ]
  },
  {
   "cell_type": "markdown",
   "id": "4b3dc12d",
   "metadata": {
    "papermill": {
     "duration": 0.005329,
     "end_time": "2022-07-12T14:24:17.312526",
     "exception": false,
     "start_time": "2022-07-12T14:24:17.307197",
     "status": "completed"
    },
    "tags": []
   },
   "source": [
    "#### Apply the add_tag_column function to all rows in the dataframe. The tag list result will be temporarily stored in the tag column."
   ]
  },
  {
   "cell_type": "code",
   "execution_count": 10,
   "id": "318edab5",
   "metadata": {
    "execution": {
     "iopub.execute_input": "2022-07-12T14:24:17.324894Z",
     "iopub.status.busy": "2022-07-12T14:24:17.324638Z",
     "iopub.status.idle": "2022-07-12T14:24:17.416247Z",
     "shell.execute_reply": "2022-07-12T14:24:17.415023Z"
    },
    "papermill": {
     "duration": 0.100532,
     "end_time": "2022-07-12T14:24:17.418939",
     "exception": false,
     "start_time": "2022-07-12T14:24:17.318407",
     "status": "completed"
    },
    "tags": []
   },
   "outputs": [
    {
     "data": {
      "text/html": [
       "<div>\n",
       "<style scoped>\n",
       "    .dataframe tbody tr th:only-of-type {\n",
       "        vertical-align: middle;\n",
       "    }\n",
       "\n",
       "    .dataframe tbody tr th {\n",
       "        vertical-align: top;\n",
       "    }\n",
       "\n",
       "    .dataframe thead th {\n",
       "        text-align: right;\n",
       "    }\n",
       "</style>\n",
       "<table border=\"1\" class=\"dataframe\">\n",
       "  <thead>\n",
       "    <tr style=\"text-align: right;\">\n",
       "      <th></th>\n",
       "      <th>publish_date</th>\n",
       "      <th>headline_text</th>\n",
       "      <th>tag</th>\n",
       "    </tr>\n",
       "  </thead>\n",
       "  <tbody>\n",
       "    <tr>\n",
       "      <th>0</th>\n",
       "      <td>20030219</td>\n",
       "      <td>aba decides against community broadcasting lic...</td>\n",
       "      <td>{'CARDINAL': 0, 'DATE': 0, 'EVENT': 0, 'FAC': ...</td>\n",
       "    </tr>\n",
       "    <tr>\n",
       "      <th>1</th>\n",
       "      <td>20030219</td>\n",
       "      <td>act fire witnesses must be aware of defamation</td>\n",
       "      <td>{'CARDINAL': 0, 'DATE': 0, 'EVENT': 0, 'FAC': ...</td>\n",
       "    </tr>\n",
       "    <tr>\n",
       "      <th>2</th>\n",
       "      <td>20030219</td>\n",
       "      <td>a g calls for infrastructure protection summit</td>\n",
       "      <td>{'CARDINAL': 0, 'DATE': 0, 'EVENT': 0, 'FAC': ...</td>\n",
       "    </tr>\n",
       "    <tr>\n",
       "      <th>3</th>\n",
       "      <td>20030219</td>\n",
       "      <td>air nz staff in aust strike for pay rise</td>\n",
       "      <td>{'CARDINAL': 0, 'DATE': 0, 'EVENT': 0, 'FAC': ...</td>\n",
       "    </tr>\n",
       "    <tr>\n",
       "      <th>4</th>\n",
       "      <td>20030219</td>\n",
       "      <td>air nz strike to affect australian travellers</td>\n",
       "      <td>{'CARDINAL': 0, 'DATE': 0, 'EVENT': 0, 'FAC': ...</td>\n",
       "    </tr>\n",
       "  </tbody>\n",
       "</table>\n",
       "</div>"
      ],
      "text/plain": [
       "   publish_date                                      headline_text  \\\n",
       "0      20030219  aba decides against community broadcasting lic...   \n",
       "1      20030219     act fire witnesses must be aware of defamation   \n",
       "2      20030219     a g calls for infrastructure protection summit   \n",
       "3      20030219           air nz staff in aust strike for pay rise   \n",
       "4      20030219      air nz strike to affect australian travellers   \n",
       "\n",
       "                                                 tag  \n",
       "0  {'CARDINAL': 0, 'DATE': 0, 'EVENT': 0, 'FAC': ...  \n",
       "1  {'CARDINAL': 0, 'DATE': 0, 'EVENT': 0, 'FAC': ...  \n",
       "2  {'CARDINAL': 0, 'DATE': 0, 'EVENT': 0, 'FAC': ...  \n",
       "3  {'CARDINAL': 0, 'DATE': 0, 'EVENT': 0, 'FAC': ...  \n",
       "4  {'CARDINAL': 0, 'DATE': 0, 'EVENT': 0, 'FAC': ...  "
      ]
     },
     "execution_count": 10,
     "metadata": {},
     "output_type": "execute_result"
    }
   ],
   "source": [
    "df[\"tag\"] = df[\"headline_text\"].apply(add_tag_column)\n",
    "df.head()"
   ]
  },
  {
   "cell_type": "markdown",
   "id": "d922731f",
   "metadata": {
    "papermill": {
     "duration": 0.005745,
     "end_time": "2022-07-12T14:24:17.430518",
     "exception": false,
     "start_time": "2022-07-12T14:24:17.424773",
     "status": "completed"
    },
    "tags": []
   },
   "source": [
    "### Create new features\n",
    "Create new columns, tag_NER, which are the number of each NER occurrence in the text."
   ]
  },
  {
   "cell_type": "code",
   "execution_count": 11,
   "id": "2c11ee88",
   "metadata": {
    "execution": {
     "iopub.execute_input": "2022-07-12T14:24:17.443977Z",
     "iopub.status.busy": "2022-07-12T14:24:17.443701Z",
     "iopub.status.idle": "2022-07-12T14:24:17.477089Z",
     "shell.execute_reply": "2022-07-12T14:24:17.475986Z"
    },
    "papermill": {
     "duration": 0.042703,
     "end_time": "2022-07-12T14:24:17.479313",
     "exception": false,
     "start_time": "2022-07-12T14:24:17.436610",
     "status": "completed"
    },
    "tags": []
   },
   "outputs": [
    {
     "data": {
      "text/html": [
       "<div>\n",
       "<style scoped>\n",
       "    .dataframe tbody tr th:only-of-type {\n",
       "        vertical-align: middle;\n",
       "    }\n",
       "\n",
       "    .dataframe tbody tr th {\n",
       "        vertical-align: top;\n",
       "    }\n",
       "\n",
       "    .dataframe thead th {\n",
       "        text-align: right;\n",
       "    }\n",
       "</style>\n",
       "<table border=\"1\" class=\"dataframe\">\n",
       "  <thead>\n",
       "    <tr style=\"text-align: right;\">\n",
       "      <th></th>\n",
       "      <th>publish_date</th>\n",
       "      <th>headline_text</th>\n",
       "      <th>tag</th>\n",
       "      <th>tag_CARDINAL</th>\n",
       "      <th>tag_DATE</th>\n",
       "      <th>tag_EVENT</th>\n",
       "      <th>tag_FAC</th>\n",
       "      <th>tag_GPE</th>\n",
       "      <th>tag_LANGUAGE</th>\n",
       "      <th>tag_LAW</th>\n",
       "      <th>...</th>\n",
       "      <th>tag_MONEY</th>\n",
       "      <th>tag_NORP</th>\n",
       "      <th>tag_ORDINAL</th>\n",
       "      <th>tag_ORG</th>\n",
       "      <th>tag_PERCENT</th>\n",
       "      <th>tag_PERSON</th>\n",
       "      <th>tag_PRODUCT</th>\n",
       "      <th>tag_QUANTITY</th>\n",
       "      <th>tag_TIME</th>\n",
       "      <th>tag_WORK_OF_ART</th>\n",
       "    </tr>\n",
       "  </thead>\n",
       "  <tbody>\n",
       "    <tr>\n",
       "      <th>0</th>\n",
       "      <td>20030219</td>\n",
       "      <td>aba decides against community broadcasting lic...</td>\n",
       "      <td>{'CARDINAL': 0, 'DATE': 0, 'EVENT': 0, 'FAC': ...</td>\n",
       "      <td>0</td>\n",
       "      <td>0</td>\n",
       "      <td>0</td>\n",
       "      <td>0</td>\n",
       "      <td>0</td>\n",
       "      <td>0</td>\n",
       "      <td>0</td>\n",
       "      <td>...</td>\n",
       "      <td>0</td>\n",
       "      <td>0</td>\n",
       "      <td>0</td>\n",
       "      <td>0</td>\n",
       "      <td>0</td>\n",
       "      <td>0</td>\n",
       "      <td>0</td>\n",
       "      <td>0</td>\n",
       "      <td>0</td>\n",
       "      <td>0</td>\n",
       "    </tr>\n",
       "    <tr>\n",
       "      <th>1</th>\n",
       "      <td>20030219</td>\n",
       "      <td>act fire witnesses must be aware of defamation</td>\n",
       "      <td>{'CARDINAL': 0, 'DATE': 0, 'EVENT': 0, 'FAC': ...</td>\n",
       "      <td>0</td>\n",
       "      <td>0</td>\n",
       "      <td>0</td>\n",
       "      <td>0</td>\n",
       "      <td>0</td>\n",
       "      <td>0</td>\n",
       "      <td>0</td>\n",
       "      <td>...</td>\n",
       "      <td>0</td>\n",
       "      <td>0</td>\n",
       "      <td>0</td>\n",
       "      <td>0</td>\n",
       "      <td>0</td>\n",
       "      <td>0</td>\n",
       "      <td>0</td>\n",
       "      <td>0</td>\n",
       "      <td>0</td>\n",
       "      <td>0</td>\n",
       "    </tr>\n",
       "    <tr>\n",
       "      <th>2</th>\n",
       "      <td>20030219</td>\n",
       "      <td>a g calls for infrastructure protection summit</td>\n",
       "      <td>{'CARDINAL': 0, 'DATE': 0, 'EVENT': 0, 'FAC': ...</td>\n",
       "      <td>0</td>\n",
       "      <td>0</td>\n",
       "      <td>0</td>\n",
       "      <td>0</td>\n",
       "      <td>0</td>\n",
       "      <td>0</td>\n",
       "      <td>0</td>\n",
       "      <td>...</td>\n",
       "      <td>0</td>\n",
       "      <td>0</td>\n",
       "      <td>0</td>\n",
       "      <td>0</td>\n",
       "      <td>0</td>\n",
       "      <td>0</td>\n",
       "      <td>0</td>\n",
       "      <td>0</td>\n",
       "      <td>0</td>\n",
       "      <td>0</td>\n",
       "    </tr>\n",
       "    <tr>\n",
       "      <th>3</th>\n",
       "      <td>20030219</td>\n",
       "      <td>air nz staff in aust strike for pay rise</td>\n",
       "      <td>{'CARDINAL': 0, 'DATE': 0, 'EVENT': 0, 'FAC': ...</td>\n",
       "      <td>0</td>\n",
       "      <td>0</td>\n",
       "      <td>0</td>\n",
       "      <td>0</td>\n",
       "      <td>0</td>\n",
       "      <td>0</td>\n",
       "      <td>0</td>\n",
       "      <td>...</td>\n",
       "      <td>0</td>\n",
       "      <td>0</td>\n",
       "      <td>0</td>\n",
       "      <td>2</td>\n",
       "      <td>0</td>\n",
       "      <td>0</td>\n",
       "      <td>0</td>\n",
       "      <td>0</td>\n",
       "      <td>0</td>\n",
       "      <td>0</td>\n",
       "    </tr>\n",
       "    <tr>\n",
       "      <th>4</th>\n",
       "      <td>20030219</td>\n",
       "      <td>air nz strike to affect australian travellers</td>\n",
       "      <td>{'CARDINAL': 0, 'DATE': 0, 'EVENT': 0, 'FAC': ...</td>\n",
       "      <td>0</td>\n",
       "      <td>0</td>\n",
       "      <td>0</td>\n",
       "      <td>0</td>\n",
       "      <td>0</td>\n",
       "      <td>0</td>\n",
       "      <td>0</td>\n",
       "      <td>...</td>\n",
       "      <td>0</td>\n",
       "      <td>1</td>\n",
       "      <td>0</td>\n",
       "      <td>0</td>\n",
       "      <td>0</td>\n",
       "      <td>2</td>\n",
       "      <td>0</td>\n",
       "      <td>0</td>\n",
       "      <td>0</td>\n",
       "      <td>0</td>\n",
       "    </tr>\n",
       "  </tbody>\n",
       "</table>\n",
       "<p>5 rows × 21 columns</p>\n",
       "</div>"
      ],
      "text/plain": [
       "   publish_date                                      headline_text  \\\n",
       "0      20030219  aba decides against community broadcasting lic...   \n",
       "1      20030219     act fire witnesses must be aware of defamation   \n",
       "2      20030219     a g calls for infrastructure protection summit   \n",
       "3      20030219           air nz staff in aust strike for pay rise   \n",
       "4      20030219      air nz strike to affect australian travellers   \n",
       "\n",
       "                                                 tag  tag_CARDINAL  tag_DATE  \\\n",
       "0  {'CARDINAL': 0, 'DATE': 0, 'EVENT': 0, 'FAC': ...             0         0   \n",
       "1  {'CARDINAL': 0, 'DATE': 0, 'EVENT': 0, 'FAC': ...             0         0   \n",
       "2  {'CARDINAL': 0, 'DATE': 0, 'EVENT': 0, 'FAC': ...             0         0   \n",
       "3  {'CARDINAL': 0, 'DATE': 0, 'EVENT': 0, 'FAC': ...             0         0   \n",
       "4  {'CARDINAL': 0, 'DATE': 0, 'EVENT': 0, 'FAC': ...             0         0   \n",
       "\n",
       "   tag_EVENT  tag_FAC  tag_GPE  tag_LANGUAGE  tag_LAW  ...  tag_MONEY  \\\n",
       "0          0        0        0             0        0  ...          0   \n",
       "1          0        0        0             0        0  ...          0   \n",
       "2          0        0        0             0        0  ...          0   \n",
       "3          0        0        0             0        0  ...          0   \n",
       "4          0        0        0             0        0  ...          0   \n",
       "\n",
       "   tag_NORP  tag_ORDINAL  tag_ORG  tag_PERCENT  tag_PERSON  tag_PRODUCT  \\\n",
       "0         0            0        0            0           0            0   \n",
       "1         0            0        0            0           0            0   \n",
       "2         0            0        0            0           0            0   \n",
       "3         0            0        2            0           0            0   \n",
       "4         1            0        0            0           2            0   \n",
       "\n",
       "   tag_QUANTITY  tag_TIME  tag_WORK_OF_ART  \n",
       "0             0         0                0  \n",
       "1             0         0                0  \n",
       "2             0         0                0  \n",
       "3             0         0                0  \n",
       "4             0         0                0  \n",
       "\n",
       "[5 rows x 21 columns]"
      ]
     },
     "execution_count": 11,
     "metadata": {},
     "output_type": "execute_result"
    }
   ],
   "source": [
    "for tag in ner_list:\n",
    "    df[\"tag_\"+tag] = df['tag'].apply(lambda count: count[tag])\n",
    "    \n",
    "df.head()    "
   ]
  },
  {
   "cell_type": "markdown",
   "id": "5cb9e357",
   "metadata": {
    "papermill": {
     "duration": 0.00599,
     "end_time": "2022-07-12T14:24:17.491322",
     "exception": false,
     "start_time": "2022-07-12T14:24:17.485332",
     "status": "completed"
    },
    "tags": []
   },
   "source": [
    "### You can use these columns to train an NLP model."
   ]
  }
 ],
 "metadata": {
  "kernelspec": {
   "display_name": "Python 3",
   "language": "python",
   "name": "python3"
  },
  "language_info": {
   "codemirror_mode": {
    "name": "ipython",
    "version": 3
   },
   "file_extension": ".py",
   "mimetype": "text/x-python",
   "name": "python",
   "nbconvert_exporter": "python",
   "pygments_lexer": "ipython3",
   "version": "3.7.12"
  },
  "papermill": {
   "default_parameters": {},
   "duration": 14.943473,
   "end_time": "2022-07-12T14:24:18.417760",
   "environment_variables": {},
   "exception": null,
   "input_path": "__notebook__.ipynb",
   "output_path": "__notebook__.ipynb",
   "parameters": {},
   "start_time": "2022-07-12T14:24:03.474287",
   "version": "2.3.4"
  }
 },
 "nbformat": 4,
 "nbformat_minor": 5
}
