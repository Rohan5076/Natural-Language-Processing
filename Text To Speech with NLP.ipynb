{
 "cells": [
  {
   "cell_type": "markdown",
   "id": "b5aa5945",
   "metadata": {},
   "source": [
    "Text to speech is the generation of speech synthesized from the text. The technology is used to communicate with users when reading a screen is not possible or impractical. This not only opens up apps and information to use in new ways but can also make the world more accessible to people who cannot read text on a screen. In this project, I will take you through building your TTS with Python."
   ]
  },
  {
   "cell_type": "markdown",
   "id": "89356561",
   "metadata": {},
   "source": [
    "The technology behind the TTS has evolved over the past few decades. Using natural language processing, it is now possible to produce very natural speech that includes changes in pitch, speed, pronunciation and inflexion. "
   ]
  },
  {
   "cell_type": "markdown",
   "id": "883ccd03",
   "metadata": {},
   "source": [
    "### Text to Speech with NLP\n",
    "I will simply start with importing all the necessary libraries that we need for this task to create a program that takes the text of an article online and converts it into speech:"
   ]
  },
  {
   "cell_type": "code",
   "execution_count": 3,
   "id": "6e7ca2fb",
   "metadata": {},
   "outputs": [],
   "source": [
    "#Import the libraries\n",
    "from newspaper import Article\n",
    "import nltk\n",
    "from gtts import gTTS\n",
    "import os"
   ]
  },
  {
   "cell_type": "markdown",
   "id": "42c39451",
   "metadata": {},
   "source": [
    "Now after importing the libraries, we need to get an article from online sources so that we can create a program to convert text to speech from that article:"
   ]
  },
  {
   "cell_type": "code",
   "execution_count": 4,
   "id": "a5fadf6a",
   "metadata": {},
   "outputs": [],
   "source": [
    "#Get the article\n",
    "article = Article('https://hackernoon.com/future-of-python-language-bright-or-dull-uv41u3xwx')"
   ]
  },
  {
   "cell_type": "markdown",
   "id": "090ad0f6",
   "metadata": {},
   "source": [
    "Now, let’s download and parse the article:"
   ]
  },
  {
   "cell_type": "code",
   "execution_count": 5,
   "id": "889da2c4",
   "metadata": {},
   "outputs": [],
   "source": [
    "article.download()\n",
    "article.parse()"
   ]
  },
  {
   "cell_type": "markdown",
   "id": "d3098227",
   "metadata": {},
   "source": [
    "Now, I will download the punkt package and apply Natural Language processing on it:"
   ]
  },
  {
   "cell_type": "code",
   "execution_count": 6,
   "id": "6c33d1fc",
   "metadata": {},
   "outputs": [
    {
     "name": "stderr",
     "output_type": "stream",
     "text": [
      "[nltk_data] Downloading package punkt to\n",
      "[nltk_data]     C:\\Users\\SHREE\\AppData\\Roaming\\nltk_data...\n",
      "[nltk_data]   Package punkt is already up-to-date!\n"
     ]
    }
   ],
   "source": [
    "nltk.download('punkt')\n",
    "article.nlp()"
   ]
  },
  {
   "cell_type": "markdown",
   "id": "fd71dc27",
   "metadata": {},
   "source": [
    "Now, I will define a variable to store the article:"
   ]
  },
  {
   "cell_type": "code",
   "execution_count": 7,
   "id": "a556a14a",
   "metadata": {},
   "outputs": [],
   "source": [
    "#Get the articles text\n",
    "mytext = article.text"
   ]
  },
  {
   "cell_type": "markdown",
   "id": "76a7051c",
   "metadata": {},
   "source": [
    "Now we have to choose the language of speech. Note “en” means English. You can also use “pt-br” for Portuguese and there are others:"
   ]
  },
  {
   "cell_type": "code",
   "execution_count": 8,
   "id": "3aacfb5a",
   "metadata": {},
   "outputs": [],
   "source": [
    "language = 'en' #English"
   ]
  },
  {
   "cell_type": "markdown",
   "id": "a2e82bd9",
   "metadata": {},
   "source": [
    "Now we need to pass the text and language to the engine to convert the text to speech and store it in a variable. Mark slow as False to tell the plug-in that the converted audio should be at high speed:"
   ]
  },
  {
   "cell_type": "code",
   "execution_count": 9,
   "id": "5bb2e261",
   "metadata": {},
   "outputs": [],
   "source": [
    "myobj = gTTS(text=mytext, lang=language, slow=False)"
   ]
  },
  {
   "cell_type": "markdown",
   "id": "16af56f6",
   "metadata": {},
   "source": [
    "### Running Text to Speech Program\n",
    "Now, we have converted the article for text-to-speech, so now the next step is to save this speech to mp3 file:"
   ]
  },
  {
   "cell_type": "code",
   "execution_count": 10,
   "id": "132bc1dc",
   "metadata": {},
   "outputs": [],
   "source": [
    "myobj.save(\"read_article.mp3\")"
   ]
  },
  {
   "cell_type": "markdown",
   "id": "625e8153",
   "metadata": {},
   "source": [
    "Now let’s play the converted audio file from text to speech in Windows, using the Windows command “start” followed by the name of the mp3 file:"
   ]
  },
  {
   "cell_type": "code",
   "execution_count": 11,
   "id": "8a3f7554",
   "metadata": {},
   "outputs": [
    {
     "data": {
      "text/plain": [
       "0"
      ]
     },
     "execution_count": 11,
     "metadata": {},
     "output_type": "execute_result"
    }
   ],
   "source": [
    "os.system(\"start read_article.mp3\")"
   ]
  }
 ],
 "metadata": {
  "kernelspec": {
   "display_name": "Python 3 (ipykernel)",
   "language": "python",
   "name": "python3"
  },
  "language_info": {
   "codemirror_mode": {
    "name": "ipython",
    "version": 3
   },
   "file_extension": ".py",
   "mimetype": "text/x-python",
   "name": "python",
   "nbconvert_exporter": "python",
   "pygments_lexer": "ipython3",
   "version": "3.8.8"
  }
 },
 "nbformat": 4,
 "nbformat_minor": 5
}
