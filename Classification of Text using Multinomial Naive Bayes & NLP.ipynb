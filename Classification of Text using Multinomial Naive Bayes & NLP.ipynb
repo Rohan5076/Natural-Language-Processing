{
 "cells": [
  {
   "cell_type": "markdown",
   "id": "b5eb8886",
   "metadata": {},
   "source": [
    "One place in Data Science where multinomial naive Bayes is often used is in text classification, where the features are related to word counts or frequencies within the documents to be classified.\n",
    "\n",
    "In this data science project we will use the sparse word count features from the 20 Newsgroups corpus to show how we might classify these short documents into categories."
   ]
  },
  {
   "cell_type": "markdown",
   "id": "934037c3",
   "metadata": {},
   "source": [
    "### Let’s download the data and take a look at the target names:"
   ]
  },
  {
   "cell_type": "code",
   "execution_count": 1,
   "id": "eb6e37fa",
   "metadata": {},
   "outputs": [
    {
     "name": "stdout",
     "output_type": "stream",
     "text": [
      "['alt.atheism', 'comp.graphics', 'comp.os.ms-windows.misc', 'comp.sys.ibm.pc.hardware', 'comp.sys.mac.hardware', 'comp.windows.x', 'misc.forsale', 'rec.autos', 'rec.motorcycles', 'rec.sport.baseball', 'rec.sport.hockey', 'sci.crypt', 'sci.electronics', 'sci.med', 'sci.space', 'soc.religion.christian', 'talk.politics.guns', 'talk.politics.mideast', 'talk.politics.misc', 'talk.religion.misc']\n"
     ]
    }
   ],
   "source": [
    "from sklearn.datasets import fetch_20newsgroups\n",
    "data = fetch_20newsgroups()\n",
    "print(data.target_names)"
   ]
  },
  {
   "cell_type": "markdown",
   "id": "1a6b75dd",
   "metadata": {},
   "source": [
    "For simplicity, we will select just a few of these categories, and download the training and testing set:"
   ]
  },
  {
   "cell_type": "code",
   "execution_count": 2,
   "id": "8c1ad1cf",
   "metadata": {},
   "outputs": [],
   "source": [
    "categories = ['talk.religion.misc', 'soc.religion.christian', 'sci.space', 'comp.graphics']\n",
    "train = fetch_20newsgroups(subset='train', categories=categories)\n",
    "test = fetch_20newsgroups(subset='test', categories=categories)"
   ]
  },
  {
   "cell_type": "markdown",
   "id": "090a81bb",
   "metadata": {},
   "source": [
    "Here is a representative entry from the data:"
   ]
  },
  {
   "cell_type": "code",
   "execution_count": 3,
   "id": "76818cf5",
   "metadata": {},
   "outputs": [
    {
     "name": "stdout",
     "output_type": "stream",
     "text": [
      "From: dmcgee@uluhe.soest.hawaii.edu (Don McGee)\n",
      "Subject: Federal Hearing\n",
      "Originator: dmcgee@uluhe\n",
      "Organization: School of Ocean and Earth Science and Technology\n",
      "Distribution: usa\n",
      "Lines: 10\n",
      "\n",
      "\n",
      "Fact or rumor....?  Madalyn Murray O'Hare an atheist who eliminated the\n",
      "use of the bible reading and prayer in public schools 15 years ago is now\n",
      "going to appear before the FCC with a petition to stop the reading of the\n",
      "Gospel on the airways of America.  And she is also campaigning to remove\n",
      "Christmas programs, songs, etc from the public schools.  If it is true\n",
      "then mail to Federal Communications Commission 1919 H Street Washington DC\n",
      "20054 expressing your opposition to her request.  Reference Petition number\n",
      "\n",
      "2493.\n",
      "\n"
     ]
    }
   ],
   "source": [
    "print(train.data[5])"
   ]
  },
  {
   "cell_type": "markdown",
   "id": "0f787ee1",
   "metadata": {},
   "source": [
    "In order to use this data for machine learning, we need to be able to convert the content of each string into a vector of numbers. For this we will use the TF–IDF vectorizer, and create a pipeline that attaches it to a multinomial naive Bayes classifier:"
   ]
  },
  {
   "cell_type": "code",
   "execution_count": 4,
   "id": "726f09b9",
   "metadata": {},
   "outputs": [],
   "source": [
    "from sklearn.feature_extraction.text import TfidfVectorizer\n",
    "from sklearn.naive_bayes import MultinomialNB\n",
    "from sklearn.pipeline import make_pipeline\n",
    "\n",
    "model = make_pipeline(TfidfVectorizer(), MultinomialNB())"
   ]
  },
  {
   "cell_type": "markdown",
   "id": "fa75c5ac",
   "metadata": {},
   "source": [
    "With this pipeline, we can apply the model to the training data, and predict labels for the test data:"
   ]
  },
  {
   "cell_type": "code",
   "execution_count": 5,
   "id": "2318f351",
   "metadata": {},
   "outputs": [],
   "source": [
    "model.fit(train.data, train.target)\n",
    "labels = model.predict(test.data)"
   ]
  },
  {
   "cell_type": "markdown",
   "id": "9f1309da",
   "metadata": {},
   "source": [
    "Now that we have predicted the labels for the test data, we can evaluate them to learn about the performance of the estimator. For example, here is the confusion matrix between the true and predicted labels for the test data:"
   ]
  },
  {
   "cell_type": "code",
   "execution_count": 6,
   "id": "3e2c6def",
   "metadata": {},
   "outputs": [
    {
     "data": {
      "image/png": "[encoded data removed]",
      "text/plain": [
       "<Figure size 432x288 with 1 Axes>"
      ]
     },
     "metadata": {
      "needs_background": "light"
     },
     "output_type": "display_data"
    }
   ],
   "source": [
    "from sklearn.metrics import confusion_matrix\n",
    "mat = confusion_matrix(test.target, labels)\n",
    "import seaborn as sns\n",
    "import matplotlib.pyplot as plt\n",
    "sns.heatmap(mat.T,square=True,annot=True,fmt='d',cbar=False,\n",
    "            xticklabels=train.target_names,yticklabels=train.target_names)\n",
    "plt.xlabel('True Label')\n",
    "plt.ylabel(\"Predicted Label\")\n",
    "plt.show()"
   ]
  },
  {
   "cell_type": "markdown",
   "id": "a856faec",
   "metadata": {},
   "source": [
    "Evidently, even this very simple classifier can successfully separate space talk from computer talk, but it gets confused between talk about religion and talk about Christianity. This is perhaps an expected area of confusion.\n",
    "\n",
    "The very cool thing here is that we now have the tools to determine the category for any string, using the predict() method of this pipeline. Here’s a quick utility function that will return the prediction for a single string:"
   ]
  },
  {
   "cell_type": "code",
   "execution_count": 7,
   "id": "c366ca25",
   "metadata": {},
   "outputs": [],
   "source": [
    "def predict_category(s, train=train,model=model):\n",
    "    pred = model.predict([s])\n",
    "    print(train.target_names[pred[0]])"
   ]
  },
  {
   "cell_type": "markdown",
   "id": "e33c007a",
   "metadata": {},
   "source": [
    "Let’s try it out:"
   ]
  },
  {
   "cell_type": "code",
   "execution_count": 8,
   "id": "78943680",
   "metadata": {},
   "outputs": [
    {
     "name": "stdout",
     "output_type": "stream",
     "text": [
      "sci.space\n"
     ]
    }
   ],
   "source": [
    "predict_category(\"sending a payload to the ISS\")"
   ]
  },
  {
   "cell_type": "code",
   "execution_count": 9,
   "id": "a82e84f4",
   "metadata": {},
   "outputs": [
    {
     "name": "stdout",
     "output_type": "stream",
     "text": [
      "soc.religion.christian\n"
     ]
    }
   ],
   "source": [
    "predict_category(\"discussing islam vs atheism\")"
   ]
  },
  {
   "cell_type": "code",
   "execution_count": 10,
   "id": "c6ada5da",
   "metadata": {},
   "outputs": [
    {
     "name": "stdout",
     "output_type": "stream",
     "text": [
      "comp.graphics\n"
     ]
    }
   ],
   "source": [
    "predict_category(\"determining the screen resolution\")"
   ]
  },
  {
   "cell_type": "markdown",
   "id": "4691fdd9",
   "metadata": {},
   "source": [
    "Remember that this is nothing more sophisticated than a simple probability model for the (weighted) frequency of each word in the string; nevertheless, the result is striking. Even a very naive algorithm, when used carefully and trained on a large set of high-dimensional data, can be surprisingly effective."
   ]
  }
 ],
 "metadata": {
  "kernelspec": {
   "display_name": "Python 3 (ipykernel)",
   "language": "python",
   "name": "python3"
  },
  "language_info": {
   "codemirror_mode": {
    "name": "ipython",
    "version": 3
   },
   "file_extension": ".py",
   "mimetype": "text/x-python",
   "name": "python",
   "nbconvert_exporter": "python",
   "pygments_lexer": "ipython3",
   "version": "3.8.8"
  }
 },
 "nbformat": 4,
 "nbformat_minor": 5
}
