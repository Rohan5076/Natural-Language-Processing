{
 "cells": [
  {
   "cell_type": "markdown",
   "id": "ef48ee56",
   "metadata": {},
   "source": [
    "Keywords play an important role when reading a long text to understand the subject and context of the text. Search engines also analyze an article’s keywords before indexing it.\n",
    "\n",
    "There are so many Python libraries for the task of extracting keywords, the best ones are spaCy, Rake-Nltk, YAKE.\n",
    "\n",
    "RAKE stands for Rapid Automatic Keyword Extraction. It is only built to extract keywords by using the NLTK library in Python. Now let’s see how to use this library for extracting keywords."
   ]
  },
  {
   "cell_type": "markdown",
   "id": "d08bdb23",
   "metadata": {},
   "source": [
    "I will first start with importing the Rake module from the rake-nltk library:"
   ]
  },
  {
   "cell_type": "code",
   "execution_count": 2,
   "id": "547b2e2a",
   "metadata": {},
   "outputs": [],
   "source": [
    "from rake_nltk import Rake\n",
    "rake_nltk_var = Rake()"
   ]
  },
  {
   "cell_type": "markdown",
   "id": "a45644bc",
   "metadata": {},
   "source": [
    "Now I will store some text into a variable:"
   ]
  },
  {
   "cell_type": "code",
   "execution_count": 3,
   "id": "6e410872",
   "metadata": {},
   "outputs": [],
   "source": [
    "text = \"\"\" I am a programmer from India, and I am here to guide you \n",
    "with Data Science, Machine Learning, Python, and C++ for free. \n",
    "I hope you will learn a lot in your journey towards Coding, \n",
    "Machine Learning and Artificial Intelligence with me.\"\"\""
   ]
  },
  {
   "cell_type": "markdown",
   "id": "990de9e0",
   "metadata": {},
   "source": [
    "Now let’s extract the keywords from the text and print the output:"
   ]
  },
  {
   "cell_type": "code",
   "execution_count": 4,
   "id": "4cc43f43",
   "metadata": {},
   "outputs": [
    {
     "name": "stdout",
     "output_type": "stream",
     "text": [
      "['journey towards coding', 'machine learning', 'machine learning', 'data science', 'c ++', 'artificial intelligence', 'python', 'programmer', 'lot', 'learn', 'india', 'hope', 'guide', 'free']\n"
     ]
    }
   ],
   "source": [
    "rake_nltk_var.extract_keywords_from_text(text)\n",
    "keyword_extracted = rake_nltk_var.get_ranked_phrases()\n",
    "print(keyword_extracted)"
   ]
  },
  {
   "cell_type": "markdown",
   "id": "2bb2fab0",
   "metadata": {},
   "source": [
    "## Summary"
   ]
  },
  {
   "cell_type": "markdown",
   "id": "5bc13dd3",
   "metadata": {},
   "source": [
    "The process of extracting keywords helps us identifying the importance of words in a text. This task can be also used for topic modelling. It is very useful to extract keywords for indexing the articles on the web so that people searching the keywords can get the best articles to read.\n",
    "\n",
    "This technique is also used by various search engines. It is obvious that they don’t use any library but the process remains the same to extract keywords."
   ]
  }
 ],
 "metadata": {
  "kernelspec": {
   "display_name": "Python 3 (ipykernel)",
   "language": "python",
   "name": "python3"
  },
  "language_info": {
   "codemirror_mode": {
    "name": "ipython",
    "version": 3
   },
   "file_extension": ".py",
   "mimetype": "text/x-python",
   "name": "python",
   "nbconvert_exporter": "python",
   "pygments_lexer": "ipython3",
   "version": "3.8.8"
  }
 },
 "nbformat": 4,
 "nbformat_minor": 5
}
